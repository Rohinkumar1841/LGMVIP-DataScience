{
  "nbformat": 4,
  "nbformat_minor": 0,
  "metadata": {
    "colab": {
      "name": "Task 1 intermediate.ipynb",
      "provenance": [],
      "include_colab_link": true
    },
    "kernelspec": {
      "name": "python3",
      "display_name": "Python 3"
    },
    "language_info": {
      "name": "python"
    }
  },
  "cells": [
    {
      "cell_type": "markdown",
      "metadata": {
        "id": "view-in-github",
        "colab_type": "text"
      },
      "source": [
        "<a href=\"https://colab.research.google.com/github/Rohinkumar1841/LGMVIP-DataScience/blob/main/Task_1_intermediate.ipynb\" target=\"_parent\"><img src=\"https://colab.research.google.com/assets/colab-badge.svg\" alt=\"Open In Colab\"/></a>"
      ]
    },
    {
      "cell_type": "markdown",
      "metadata": {
        "id": "H-SixPVbabki"
      },
      "source": [
        "# Collection of Data"
      ]
    },
    {
      "cell_type": "code",
      "metadata": {
        "id": "xNqjqiJmYbQJ"
      },
      "source": [
        "# Importing the necessary libraries\n",
        "import numpy as np\n",
        "import matplotlib.pyplot as plt\n",
        "import pandas as pd"
      ],
      "execution_count": 1,
      "outputs": []
    },
    {
      "cell_type": "code",
      "metadata": {
        "colab": {
          "base_uri": "https://localhost:8080/",
          "height": 206
        },
        "id": "Fqmf6BlMWlHG",
        "outputId": "f48808ef-8014-4c85-9b39-cd748c456b2f"
      },
      "source": [
        "# Loading the Dataset\n",
        "data = pd.read_csv(\"/content/NSE-TATAGLOBAL.csv\")\n",
        "data.head()"
      ],
      "execution_count": 2,
      "outputs": [
        {
          "output_type": "execute_result",
          "data": {
            "text/html": [
              "\n",
              "  <div id=\"df-57fd8e72-38d3-4987-b42a-650b5e9ba606\">\n",
              "    <div class=\"colab-df-container\">\n",
              "      <div>\n",
              "<style scoped>\n",
              "    .dataframe tbody tr th:only-of-type {\n",
              "        vertical-align: middle;\n",
              "    }\n",
              "\n",
              "    .dataframe tbody tr th {\n",
              "        vertical-align: top;\n",
              "    }\n",
              "\n",
              "    .dataframe thead th {\n",
              "        text-align: right;\n",
              "    }\n",
              "</style>\n",
              "<table border=\"1\" class=\"dataframe\">\n",
              "  <thead>\n",
              "    <tr style=\"text-align: right;\">\n",
              "      <th></th>\n",
              "      <th>Date</th>\n",
              "      <th>Open</th>\n",
              "      <th>High</th>\n",
              "      <th>Low</th>\n",
              "      <th>Last</th>\n",
              "      <th>Close</th>\n",
              "      <th>Total Trade Quantity</th>\n",
              "      <th>Turnover (Lacs)</th>\n",
              "    </tr>\n",
              "  </thead>\n",
              "  <tbody>\n",
              "    <tr>\n",
              "      <th>0</th>\n",
              "      <td>2018-09-28</td>\n",
              "      <td>234.05</td>\n",
              "      <td>235.95</td>\n",
              "      <td>230.20</td>\n",
              "      <td>233.50</td>\n",
              "      <td>233.75</td>\n",
              "      <td>3069914</td>\n",
              "      <td>7162.35</td>\n",
              "    </tr>\n",
              "    <tr>\n",
              "      <th>1</th>\n",
              "      <td>2018-09-27</td>\n",
              "      <td>234.55</td>\n",
              "      <td>236.80</td>\n",
              "      <td>231.10</td>\n",
              "      <td>233.80</td>\n",
              "      <td>233.25</td>\n",
              "      <td>5082859</td>\n",
              "      <td>11859.95</td>\n",
              "    </tr>\n",
              "    <tr>\n",
              "      <th>2</th>\n",
              "      <td>2018-09-26</td>\n",
              "      <td>240.00</td>\n",
              "      <td>240.00</td>\n",
              "      <td>232.50</td>\n",
              "      <td>235.00</td>\n",
              "      <td>234.25</td>\n",
              "      <td>2240909</td>\n",
              "      <td>5248.60</td>\n",
              "    </tr>\n",
              "    <tr>\n",
              "      <th>3</th>\n",
              "      <td>2018-09-25</td>\n",
              "      <td>233.30</td>\n",
              "      <td>236.75</td>\n",
              "      <td>232.00</td>\n",
              "      <td>236.25</td>\n",
              "      <td>236.10</td>\n",
              "      <td>2349368</td>\n",
              "      <td>5503.90</td>\n",
              "    </tr>\n",
              "    <tr>\n",
              "      <th>4</th>\n",
              "      <td>2018-09-24</td>\n",
              "      <td>233.55</td>\n",
              "      <td>239.20</td>\n",
              "      <td>230.75</td>\n",
              "      <td>234.00</td>\n",
              "      <td>233.30</td>\n",
              "      <td>3423509</td>\n",
              "      <td>7999.55</td>\n",
              "    </tr>\n",
              "  </tbody>\n",
              "</table>\n",
              "</div>\n",
              "      <button class=\"colab-df-convert\" onclick=\"convertToInteractive('df-57fd8e72-38d3-4987-b42a-650b5e9ba606')\"\n",
              "              title=\"Convert this dataframe to an interactive table.\"\n",
              "              style=\"display:none;\">\n",
              "        \n",
              "  <svg xmlns=\"http://www.w3.org/2000/svg\" height=\"24px\"viewBox=\"0 0 24 24\"\n",
              "       width=\"24px\">\n",
              "    <path d=\"M0 0h24v24H0V0z\" fill=\"none\"/>\n",
              "    <path d=\"M18.56 5.44l.94 2.06.94-2.06 2.06-.94-2.06-.94-.94-2.06-.94 2.06-2.06.94zm-11 1L8.5 8.5l.94-2.06 2.06-.94-2.06-.94L8.5 2.5l-.94 2.06-2.06.94zm10 10l.94 2.06.94-2.06 2.06-.94-2.06-.94-.94-2.06-.94 2.06-2.06.94z\"/><path d=\"M17.41 7.96l-1.37-1.37c-.4-.4-.92-.59-1.43-.59-.52 0-1.04.2-1.43.59L10.3 9.45l-7.72 7.72c-.78.78-.78 2.05 0 2.83L4 21.41c.39.39.9.59 1.41.59.51 0 1.02-.2 1.41-.59l7.78-7.78 2.81-2.81c.8-.78.8-2.07 0-2.86zM5.41 20L4 18.59l7.72-7.72 1.47 1.35L5.41 20z\"/>\n",
              "  </svg>\n",
              "      </button>\n",
              "      \n",
              "  <style>\n",
              "    .colab-df-container {\n",
              "      display:flex;\n",
              "      flex-wrap:wrap;\n",
              "      gap: 12px;\n",
              "    }\n",
              "\n",
              "    .colab-df-convert {\n",
              "      background-color: #E8F0FE;\n",
              "      border: none;\n",
              "      border-radius: 50%;\n",
              "      cursor: pointer;\n",
              "      display: none;\n",
              "      fill: #1967D2;\n",
              "      height: 32px;\n",
              "      padding: 0 0 0 0;\n",
              "      width: 32px;\n",
              "    }\n",
              "\n",
              "    .colab-df-convert:hover {\n",
              "      background-color: #E2EBFA;\n",
              "      box-shadow: 0px 1px 2px rgba(60, 64, 67, 0.3), 0px 1px 3px 1px rgba(60, 64, 67, 0.15);\n",
              "      fill: #174EA6;\n",
              "    }\n",
              "\n",
              "    [theme=dark] .colab-df-convert {\n",
              "      background-color: #3B4455;\n",
              "      fill: #D2E3FC;\n",
              "    }\n",
              "\n",
              "    [theme=dark] .colab-df-convert:hover {\n",
              "      background-color: #434B5C;\n",
              "      box-shadow: 0px 1px 3px 1px rgba(0, 0, 0, 0.15);\n",
              "      filter: drop-shadow(0px 1px 2px rgba(0, 0, 0, 0.3));\n",
              "      fill: #FFFFFF;\n",
              "    }\n",
              "  </style>\n",
              "\n",
              "      <script>\n",
              "        const buttonEl =\n",
              "          document.querySelector('#df-57fd8e72-38d3-4987-b42a-650b5e9ba606 button.colab-df-convert');\n",
              "        buttonEl.style.display =\n",
              "          google.colab.kernel.accessAllowed ? 'block' : 'none';\n",
              "\n",
              "        async function convertToInteractive(key) {\n",
              "          const element = document.querySelector('#df-57fd8e72-38d3-4987-b42a-650b5e9ba606');\n",
              "          const dataTable =\n",
              "            await google.colab.kernel.invokeFunction('convertToInteractive',\n",
              "                                                     [key], {});\n",
              "          if (!dataTable) return;\n",
              "\n",
              "          const docLinkHtml = 'Like what you see? Visit the ' +\n",
              "            '<a target=\"_blank\" href=https://colab.research.google.com/notebooks/data_table.ipynb>data table notebook</a>'\n",
              "            + ' to learn more about interactive tables.';\n",
              "          element.innerHTML = '';\n",
              "          dataTable['output_type'] = 'display_data';\n",
              "          await google.colab.output.renderOutput(dataTable, element);\n",
              "          const docLink = document.createElement('div');\n",
              "          docLink.innerHTML = docLinkHtml;\n",
              "          element.appendChild(docLink);\n",
              "        }\n",
              "      </script>\n",
              "    </div>\n",
              "  </div>\n",
              "  "
            ],
            "text/plain": [
              "         Date    Open    High  ...   Close  Total Trade Quantity  Turnover (Lacs)\n",
              "0  2018-09-28  234.05  235.95  ...  233.75               3069914          7162.35\n",
              "1  2018-09-27  234.55  236.80  ...  233.25               5082859         11859.95\n",
              "2  2018-09-26  240.00  240.00  ...  234.25               2240909          5248.60\n",
              "3  2018-09-25  233.30  236.75  ...  236.10               2349368          5503.90\n",
              "4  2018-09-24  233.55  239.20  ...  233.30               3423509          7999.55\n",
              "\n",
              "[5 rows x 8 columns]"
            ]
          },
          "metadata": {},
          "execution_count": 2
        }
      ]
    },
    {
      "cell_type": "code",
      "metadata": {
        "colab": {
          "base_uri": "https://localhost:8080/",
          "height": 206
        },
        "id": "sEW_OoeNZqkl",
        "outputId": "572b6344-7a2e-4968-fe37-c936ab6d6304"
      },
      "source": [
        "data.tail()"
      ],
      "execution_count": 3,
      "outputs": [
        {
          "output_type": "execute_result",
          "data": {
            "text/html": [
              "\n",
              "  <div id=\"df-56aa0be4-96c3-49a5-a857-77ad30eef636\">\n",
              "    <div class=\"colab-df-container\">\n",
              "      <div>\n",
              "<style scoped>\n",
              "    .dataframe tbody tr th:only-of-type {\n",
              "        vertical-align: middle;\n",
              "    }\n",
              "\n",
              "    .dataframe tbody tr th {\n",
              "        vertical-align: top;\n",
              "    }\n",
              "\n",
              "    .dataframe thead th {\n",
              "        text-align: right;\n",
              "    }\n",
              "</style>\n",
              "<table border=\"1\" class=\"dataframe\">\n",
              "  <thead>\n",
              "    <tr style=\"text-align: right;\">\n",
              "      <th></th>\n",
              "      <th>Date</th>\n",
              "      <th>Open</th>\n",
              "      <th>High</th>\n",
              "      <th>Low</th>\n",
              "      <th>Last</th>\n",
              "      <th>Close</th>\n",
              "      <th>Total Trade Quantity</th>\n",
              "      <th>Turnover (Lacs)</th>\n",
              "    </tr>\n",
              "  </thead>\n",
              "  <tbody>\n",
              "    <tr>\n",
              "      <th>2030</th>\n",
              "      <td>2010-07-27</td>\n",
              "      <td>117.6</td>\n",
              "      <td>119.50</td>\n",
              "      <td>112.00</td>\n",
              "      <td>118.80</td>\n",
              "      <td>118.65</td>\n",
              "      <td>586100</td>\n",
              "      <td>694.98</td>\n",
              "    </tr>\n",
              "    <tr>\n",
              "      <th>2031</th>\n",
              "      <td>2010-07-26</td>\n",
              "      <td>120.1</td>\n",
              "      <td>121.00</td>\n",
              "      <td>117.10</td>\n",
              "      <td>117.10</td>\n",
              "      <td>117.60</td>\n",
              "      <td>658440</td>\n",
              "      <td>780.01</td>\n",
              "    </tr>\n",
              "    <tr>\n",
              "      <th>2032</th>\n",
              "      <td>2010-07-23</td>\n",
              "      <td>121.8</td>\n",
              "      <td>121.95</td>\n",
              "      <td>120.25</td>\n",
              "      <td>120.35</td>\n",
              "      <td>120.65</td>\n",
              "      <td>281312</td>\n",
              "      <td>340.31</td>\n",
              "    </tr>\n",
              "    <tr>\n",
              "      <th>2033</th>\n",
              "      <td>2010-07-22</td>\n",
              "      <td>120.3</td>\n",
              "      <td>122.00</td>\n",
              "      <td>120.25</td>\n",
              "      <td>120.75</td>\n",
              "      <td>120.90</td>\n",
              "      <td>293312</td>\n",
              "      <td>355.17</td>\n",
              "    </tr>\n",
              "    <tr>\n",
              "      <th>2034</th>\n",
              "      <td>2010-07-21</td>\n",
              "      <td>122.1</td>\n",
              "      <td>123.00</td>\n",
              "      <td>121.05</td>\n",
              "      <td>121.10</td>\n",
              "      <td>121.55</td>\n",
              "      <td>658666</td>\n",
              "      <td>803.56</td>\n",
              "    </tr>\n",
              "  </tbody>\n",
              "</table>\n",
              "</div>\n",
              "      <button class=\"colab-df-convert\" onclick=\"convertToInteractive('df-56aa0be4-96c3-49a5-a857-77ad30eef636')\"\n",
              "              title=\"Convert this dataframe to an interactive table.\"\n",
              "              style=\"display:none;\">\n",
              "        \n",
              "  <svg xmlns=\"http://www.w3.org/2000/svg\" height=\"24px\"viewBox=\"0 0 24 24\"\n",
              "       width=\"24px\">\n",
              "    <path d=\"M0 0h24v24H0V0z\" fill=\"none\"/>\n",
              "    <path d=\"M18.56 5.44l.94 2.06.94-2.06 2.06-.94-2.06-.94-.94-2.06-.94 2.06-2.06.94zm-11 1L8.5 8.5l.94-2.06 2.06-.94-2.06-.94L8.5 2.5l-.94 2.06-2.06.94zm10 10l.94 2.06.94-2.06 2.06-.94-2.06-.94-.94-2.06-.94 2.06-2.06.94z\"/><path d=\"M17.41 7.96l-1.37-1.37c-.4-.4-.92-.59-1.43-.59-.52 0-1.04.2-1.43.59L10.3 9.45l-7.72 7.72c-.78.78-.78 2.05 0 2.83L4 21.41c.39.39.9.59 1.41.59.51 0 1.02-.2 1.41-.59l7.78-7.78 2.81-2.81c.8-.78.8-2.07 0-2.86zM5.41 20L4 18.59l7.72-7.72 1.47 1.35L5.41 20z\"/>\n",
              "  </svg>\n",
              "      </button>\n",
              "      \n",
              "  <style>\n",
              "    .colab-df-container {\n",
              "      display:flex;\n",
              "      flex-wrap:wrap;\n",
              "      gap: 12px;\n",
              "    }\n",
              "\n",
              "    .colab-df-convert {\n",
              "      background-color: #E8F0FE;\n",
              "      border: none;\n",
              "      border-radius: 50%;\n",
              "      cursor: pointer;\n",
              "      display: none;\n",
              "      fill: #1967D2;\n",
              "      height: 32px;\n",
              "      padding: 0 0 0 0;\n",
              "      width: 32px;\n",
              "    }\n",
              "\n",
              "    .colab-df-convert:hover {\n",
              "      background-color: #E2EBFA;\n",
              "      box-shadow: 0px 1px 2px rgba(60, 64, 67, 0.3), 0px 1px 3px 1px rgba(60, 64, 67, 0.15);\n",
              "      fill: #174EA6;\n",
              "    }\n",
              "\n",
              "    [theme=dark] .colab-df-convert {\n",
              "      background-color: #3B4455;\n",
              "      fill: #D2E3FC;\n",
              "    }\n",
              "\n",
              "    [theme=dark] .colab-df-convert:hover {\n",
              "      background-color: #434B5C;\n",
              "      box-shadow: 0px 1px 3px 1px rgba(0, 0, 0, 0.15);\n",
              "      filter: drop-shadow(0px 1px 2px rgba(0, 0, 0, 0.3));\n",
              "      fill: #FFFFFF;\n",
              "    }\n",
              "  </style>\n",
              "\n",
              "      <script>\n",
              "        const buttonEl =\n",
              "          document.querySelector('#df-56aa0be4-96c3-49a5-a857-77ad30eef636 button.colab-df-convert');\n",
              "        buttonEl.style.display =\n",
              "          google.colab.kernel.accessAllowed ? 'block' : 'none';\n",
              "\n",
              "        async function convertToInteractive(key) {\n",
              "          const element = document.querySelector('#df-56aa0be4-96c3-49a5-a857-77ad30eef636');\n",
              "          const dataTable =\n",
              "            await google.colab.kernel.invokeFunction('convertToInteractive',\n",
              "                                                     [key], {});\n",
              "          if (!dataTable) return;\n",
              "\n",
              "          const docLinkHtml = 'Like what you see? Visit the ' +\n",
              "            '<a target=\"_blank\" href=https://colab.research.google.com/notebooks/data_table.ipynb>data table notebook</a>'\n",
              "            + ' to learn more about interactive tables.';\n",
              "          element.innerHTML = '';\n",
              "          dataTable['output_type'] = 'display_data';\n",
              "          await google.colab.output.renderOutput(dataTable, element);\n",
              "          const docLink = document.createElement('div');\n",
              "          docLink.innerHTML = docLinkHtml;\n",
              "          element.appendChild(docLink);\n",
              "        }\n",
              "      </script>\n",
              "    </div>\n",
              "  </div>\n",
              "  "
            ],
            "text/plain": [
              "            Date   Open    High  ...   Close  Total Trade Quantity  Turnover (Lacs)\n",
              "2030  2010-07-27  117.6  119.50  ...  118.65                586100           694.98\n",
              "2031  2010-07-26  120.1  121.00  ...  117.60                658440           780.01\n",
              "2032  2010-07-23  121.8  121.95  ...  120.65                281312           340.31\n",
              "2033  2010-07-22  120.3  122.00  ...  120.90                293312           355.17\n",
              "2034  2010-07-21  122.1  123.00  ...  121.55                658666           803.56\n",
              "\n",
              "[5 rows x 8 columns]"
            ]
          },
          "metadata": {},
          "execution_count": 3
        }
      ]
    },
    {
      "cell_type": "markdown",
      "metadata": {
        "id": "53gNW6BEY8J2"
      },
      "source": [
        "As we can see here, there are different columns for the stock information, from **2010-07-21** to **2018-09-28** but for our use, we will be dealing with the Open price of the stock on a particular day."
      ]
    },
    {
      "cell_type": "code",
      "metadata": {
        "colab": {
          "base_uri": "https://localhost:8080/"
        },
        "id": "kk48HBQSYh5s",
        "outputId": "65a285d3-ecd7-47de-ea66-9d26dd11bdee"
      },
      "source": [
        "df = data.reset_index()['Open']\n",
        "df.head()"
      ],
      "execution_count": 4,
      "outputs": [
        {
          "output_type": "execute_result",
          "data": {
            "text/plain": [
              "0    234.05\n",
              "1    234.55\n",
              "2    240.00\n",
              "3    233.30\n",
              "4    233.55\n",
              "Name: Open, dtype: float64"
            ]
          },
          "metadata": {},
          "execution_count": 4
        }
      ]
    },
    {
      "cell_type": "code",
      "metadata": {
        "colab": {
          "base_uri": "https://localhost:8080/"
        },
        "id": "h4WZkNZ8Zi3r",
        "outputId": "3e2fcc30-2e92-4162-ef05-d8d5f910a37f"
      },
      "source": [
        "df.shape"
      ],
      "execution_count": 5,
      "outputs": [
        {
          "output_type": "execute_result",
          "data": {
            "text/plain": [
              "(2035,)"
            ]
          },
          "metadata": {},
          "execution_count": 5
        }
      ]
    },
    {
      "cell_type": "code",
      "metadata": {
        "colab": {
          "base_uri": "https://localhost:8080/",
          "height": 282
        },
        "id": "mvMg95kmaAdH",
        "outputId": "38c6b677-5923-4be3-a6c3-d0c11f23f304"
      },
      "source": [
        "import matplotlib.pyplot as plt\n",
        "plt.plot(df)"
      ],
      "execution_count": 6,
      "outputs": [
        {
          "output_type": "execute_result",
          "data": {
            "text/plain": [
              "[<matplotlib.lines.Line2D at 0x7f70ed0c9ad0>]"
            ]
          },
          "metadata": {},
          "execution_count": 6
        },
        {
          "output_type": "display_data",
          "data": {
            "image/png": "[encoded data removed]",
            "text/plain": [
              "<Figure size 432x288 with 1 Axes>"
            ]
          },
          "metadata": {
            "needs_background": "light"
          }
        }
      ]
    },
    {
      "cell_type": "markdown",
      "metadata": {
        "id": "dWohL77iaiQ9"
      },
      "source": [
        "Observing the performance of the stock over the span of 8 years we can conclude that the stock has not performed well and have depreciated the money invested. "
      ]
    },
    {
      "cell_type": "markdown",
      "metadata": {
        "id": "o-JzKW8Bdflz"
      },
      "source": [
        "# Preprocessing of Data(Train and Test)"
      ]
    },
    {
      "cell_type": "markdown",
      "metadata": {
        "id": "B5NiAQvBHgXm"
      },
      "source": [
        "As LSTMs are highly sensitive to their scales, it's a good practice to scale our data between 0 and 1 using MinMaxScaler.</br> NOTE: MinMaxScaler preserves the shape of the original distribution."
      ]
    },
    {
      "cell_type": "code",
      "metadata": {
        "id": "MjPrxrWkaMig"
      },
      "source": [
        "from sklearn.preprocessing import MinMaxScaler\n",
        "\n",
        "scaler = MinMaxScaler(feature_range=(0,1))\n",
        "df=scaler.fit_transform(np.array(df).reshape(-1,1))"
      ],
      "execution_count": 7,
      "outputs": []
    },
    {
      "cell_type": "code",
      "metadata": {
        "colab": {
          "base_uri": "https://localhost:8080/"
        },
        "id": "MCaXjWcmIZLE",
        "outputId": "7760a8cb-18e3-42ec-8d4b-eeb57182d354"
      },
      "source": [
        "df"
      ],
      "execution_count": 8,
      "outputs": [
        {
          "output_type": "execute_result",
          "data": {
            "text/plain": [
              "array([[0.6202352 ],\n",
              "       [0.62226277],\n",
              "       [0.64436334],\n",
              "       ...,\n",
              "       [0.16504461],\n",
              "       [0.15896188],\n",
              "       [0.16626115]])"
            ]
          },
          "metadata": {},
          "execution_count": 8
        }
      ]
    },
    {
      "cell_type": "code",
      "metadata": {
        "id": "0srnqRd6I0UB"
      },
      "source": [
        "#splitting dataset into train and test split\n",
        "length = len(df)\n",
        "training_size=int(length*0.65) #65% training, 35% testing \n",
        "test_size=length-training_size\n",
        "train_data,test_data=df[0:training_size,:],df[training_size:length,:1]"
      ],
      "execution_count": 9,
      "outputs": []
    },
    {
      "cell_type": "code",
      "metadata": {
        "colab": {
          "base_uri": "https://localhost:8080/"
        },
        "id": "1LdLriCMKF8U",
        "outputId": "9565e7fc-3a5b-43f7-ab19-bc080cb981bf"
      },
      "source": [
        "training_size,test_size"
      ],
      "execution_count": 10,
      "outputs": [
        {
          "output_type": "execute_result",
          "data": {
            "text/plain": [
              "(1322, 713)"
            ]
          },
          "metadata": {},
          "execution_count": 10
        }
      ]
    },
    {
      "cell_type": "code",
      "metadata": {
        "id": "znQM8YlmKITz"
      },
      "source": [
        "# convert an array of values into a dataset matrix\n",
        "\n",
        "def dataset(dataset, time_step=1):\n",
        "\tdataX, dataY = [], []\n",
        "\n",
        "\tfor i in range(len(dataset)-time_step-1):\n",
        "\t\ta = dataset[i:(i+time_step), 0]   ###i=0, 0,1,2,3-----99   100 \n",
        "\t\tdataX.append(a) # if steps = 100 then, 0-99 here \n",
        "\t\tdataY.append(dataset[i + time_step, 0]) # 100th element here as label\n",
        "  \n",
        "\treturn np.array(dataX), np.array(dataY)"
      ],
      "execution_count": 11,
      "outputs": []
    },
    {
      "cell_type": "code",
      "metadata": {
        "id": "pYPanauDKXCL"
      },
      "source": [
        "# reshape into X=t,t+1,t+2,t+3 and Y=t+4\n",
        "\n",
        "time_step = 100 # taking previous 100 elements in consideration.\n",
        "\n",
        "X_train, y_train = dataset(train_data, time_step)\n",
        "X_test, ytest = dataset(test_data, time_step)"
      ],
      "execution_count": 12,
      "outputs": []
    },
    {
      "cell_type": "code",
      "metadata": {
        "colab": {
          "base_uri": "https://localhost:8080/"
        },
        "id": "mUT4GfgmKX4A",
        "outputId": "adaecca5-a955-4edb-a4b9-77e53e784c2c"
      },
      "source": [
        "print(X_train.shape), print(y_train.shape)"
      ],
      "execution_count": 13,
      "outputs": [
        {
          "output_type": "stream",
          "name": "stdout",
          "text": [
            "(1221, 100)\n",
            "(1221,)\n"
          ]
        },
        {
          "output_type": "execute_result",
          "data": {
            "text/plain": [
              "(None, None)"
            ]
          },
          "metadata": {},
          "execution_count": 13
        }
      ]
    },
    {
      "cell_type": "code",
      "metadata": {
        "colab": {
          "base_uri": "https://localhost:8080/"
        },
        "id": "ttoazMZ4Kb9N",
        "outputId": "83c34b96-5a8f-4992-8379-c6651c066bee"
      },
      "source": [
        "print(X_test.shape), print(ytest.shape)"
      ],
      "execution_count": 14,
      "outputs": [
        {
          "output_type": "stream",
          "name": "stdout",
          "text": [
            "(612, 100)\n",
            "(612,)\n"
          ]
        },
        {
          "output_type": "execute_result",
          "data": {
            "text/plain": [
              "(None, None)"
            ]
          },
          "metadata": {},
          "execution_count": 14
        }
      ]
    },
    {
      "cell_type": "markdown",
      "metadata": {
        "id": "b78D41TqRW3c"
      },
      "source": [
        "Before Implementing any type of LSTM model, we are required to convert our X_train,  and X_test into three dimensions"
      ]
    },
    {
      "cell_type": "code",
      "metadata": {
        "id": "2EZ05t-pKdjx"
      },
      "source": [
        "# reshape input to be [samples, time steps, features] which is required for LSTM as (X_train.shape[1],1) will be given as input to LSTM\n",
        "\n",
        "X_train =X_train.reshape(X_train.shape[0],X_train.shape[1] , 1)\n",
        "X_test = X_test.reshape(X_test.shape[0],X_test.shape[1] , 1)"
      ],
      "execution_count": 15,
      "outputs": []
    },
    {
      "cell_type": "markdown",
      "metadata": {
        "id": "Vxnt9Bj_SLH6"
      },
      "source": [
        "# Creating an Stacked LSTM Model.\n",
        "In this section we will be defining a model with 3 LSTMs stacked over each other."
      ]
    },
    {
      "cell_type": "code",
      "metadata": {
        "id": "CA-AlmISRzW8"
      },
      "source": [
        "# Importing the necessary libraries\n",
        "\n",
        "from tensorflow.keras.models import Sequential\n",
        "from tensorflow.keras.layers import Dense\n",
        "from tensorflow.keras.layers import LSTM"
      ],
      "execution_count": 16,
      "outputs": []
    },
    {
      "cell_type": "code",
      "metadata": {
        "id": "jI_Ha1zdSeAM"
      },
      "source": [
        "# defining the sequential model\n",
        "\n",
        "model=Sequential()\n",
        "\n",
        "model.add(LSTM(50,return_sequences=True,input_shape=(X_train.shape[1],1)))\n",
        "model.add(LSTM(50,return_sequences=True))\n",
        "model.add(LSTM(50))\n",
        "model.add(Dense(1))\n",
        "\n",
        "model.compile(loss='mean_squared_error', optimizer='adam')"
      ],
      "execution_count": 17,
      "outputs": []
    },
    {
      "cell_type": "code",
      "metadata": {
        "colab": {
          "base_uri": "https://localhost:8080/"
        },
        "id": "P2IIXC3fSohh",
        "outputId": "6de0cffc-2608-4771-d160-5dbe0f42d486"
      },
      "source": [
        "model.summary()"
      ],
      "execution_count": 18,
      "outputs": [
        {
          "output_type": "stream",
          "name": "stdout",
          "text": [
            "Model: \"sequential\"\n",
            "_________________________________________________________________\n",
            " Layer (type)                Output Shape              Param #   \n",
            "=================================================================\n",
            " lstm (LSTM)                 (None, 100, 50)           10400     \n",
            "                                                                 \n",
            " lstm_1 (LSTM)               (None, 100, 50)           20200     \n",
            "                                                                 \n",
            " lstm_2 (LSTM)               (None, 50)                20200     \n",
            "                                                                 \n",
            " dense (Dense)               (None, 1)                 51        \n",
            "                                                                 \n",
            "=================================================================\n",
            "Total params: 50,851\n",
            "Trainable params: 50,851\n",
            "Non-trainable params: 0\n",
            "_________________________________________________________________\n"
          ]
        }
      ]
    },
    {
      "cell_type": "code",
      "metadata": {
        "colab": {
          "base_uri": "https://localhost:8080/"
        },
        "id": "3w04u2PrSthU",
        "outputId": "31aa6983-1ce2-48cb-80e7-ecdd594f92b1"
      },
      "source": [
        "model.fit(X_train,y_train,validation_data=(X_test,ytest),epochs=100,batch_size=64,verbose=1)"
      ],
      "execution_count": 19,
      "outputs": [
        {
          "output_type": "stream",
          "name": "stdout",
          "text": [
            "Epoch 1/100\n",
            "20/20 [==============================] - 11s 266ms/step - loss: 0.0199 - val_loss: 0.0052\n",
            "Epoch 2/100\n",
            "20/20 [==============================] - 4s 199ms/step - loss: 0.0032 - val_loss: 9.1634e-04\n",
            "Epoch 3/100\n",
            "20/20 [==============================] - 4s 198ms/step - loss: 0.0019 - val_loss: 7.7773e-04\n",
            "Epoch 4/100\n",
            "20/20 [==============================] - 4s 197ms/step - loss: 0.0017 - val_loss: 0.0013\n",
            "Epoch 5/100\n",
            "20/20 [==============================] - 4s 200ms/step - loss: 0.0018 - val_loss: 8.1400e-04\n",
            "Epoch 6/100\n",
            "20/20 [==============================] - 4s 199ms/step - loss: 0.0015 - val_loss: 0.0011\n",
            "Epoch 7/100\n",
            "20/20 [==============================] - 4s 201ms/step - loss: 0.0014 - val_loss: 8.3311e-04\n",
            "Epoch 8/100\n",
            "20/20 [==============================] - 4s 198ms/step - loss: 0.0014 - val_loss: 0.0011\n",
            "Epoch 9/100\n",
            "20/20 [==============================] - 4s 200ms/step - loss: 0.0013 - val_loss: 0.0011\n",
            "Epoch 10/100\n",
            "20/20 [==============================] - 4s 199ms/step - loss: 0.0012 - val_loss: 0.0012\n",
            "Epoch 11/100\n",
            "20/20 [==============================] - 5s 272ms/step - loss: 0.0012 - val_loss: 9.1966e-04\n",
            "Epoch 12/100\n",
            "20/20 [==============================] - 4s 199ms/step - loss: 0.0011 - val_loss: 7.4550e-04\n",
            "Epoch 13/100\n",
            "20/20 [==============================] - 4s 200ms/step - loss: 0.0012 - val_loss: 9.4476e-04\n",
            "Epoch 14/100\n",
            "20/20 [==============================] - 4s 200ms/step - loss: 0.0012 - val_loss: 8.6378e-04\n",
            "Epoch 15/100\n",
            "20/20 [==============================] - 4s 200ms/step - loss: 0.0012 - val_loss: 7.4269e-04\n",
            "Epoch 16/100\n",
            "20/20 [==============================] - 4s 198ms/step - loss: 0.0014 - val_loss: 8.0111e-04\n",
            "Epoch 17/100\n",
            "20/20 [==============================] - 6s 294ms/step - loss: 0.0011 - val_loss: 7.1060e-04\n",
            "Epoch 18/100\n",
            "20/20 [==============================] - 5s 246ms/step - loss: 9.6812e-04 - val_loss: 6.6573e-04\n",
            "Epoch 19/100\n",
            "20/20 [==============================] - 4s 198ms/step - loss: 8.8108e-04 - val_loss: 0.0010\n",
            "Epoch 20/100\n",
            "20/20 [==============================] - 4s 200ms/step - loss: 8.7762e-04 - val_loss: 7.5315e-04\n",
            "Epoch 21/100\n",
            "20/20 [==============================] - 4s 198ms/step - loss: 8.8005e-04 - val_loss: 7.9284e-04\n",
            "Epoch 22/100\n",
            "20/20 [==============================] - 4s 198ms/step - loss: 8.4146e-04 - val_loss: 6.3596e-04\n",
            "Epoch 23/100\n",
            "20/20 [==============================] - 4s 199ms/step - loss: 8.3913e-04 - val_loss: 7.8515e-04\n",
            "Epoch 24/100\n",
            "20/20 [==============================] - 4s 198ms/step - loss: 8.1535e-04 - val_loss: 8.6795e-04\n",
            "Epoch 25/100\n",
            "20/20 [==============================] - 4s 200ms/step - loss: 8.1592e-04 - val_loss: 6.6483e-04\n",
            "Epoch 26/100\n",
            "20/20 [==============================] - 4s 198ms/step - loss: 8.6979e-04 - val_loss: 8.6504e-04\n",
            "Epoch 27/100\n",
            "20/20 [==============================] - 4s 199ms/step - loss: 0.0010 - val_loss: 0.0016\n",
            "Epoch 28/100\n",
            "20/20 [==============================] - 4s 199ms/step - loss: 0.0010 - val_loss: 8.7446e-04\n",
            "Epoch 29/100\n",
            "20/20 [==============================] - 4s 202ms/step - loss: 7.2593e-04 - val_loss: 9.9619e-04\n",
            "Epoch 30/100\n",
            "20/20 [==============================] - 4s 200ms/step - loss: 8.4855e-04 - val_loss: 6.3403e-04\n",
            "Epoch 31/100\n",
            "20/20 [==============================] - 4s 198ms/step - loss: 7.2793e-04 - val_loss: 6.2873e-04\n",
            "Epoch 32/100\n",
            "20/20 [==============================] - 4s 198ms/step - loss: 7.8132e-04 - val_loss: 7.0404e-04\n",
            "Epoch 33/100\n",
            "20/20 [==============================] - 4s 203ms/step - loss: 7.0421e-04 - val_loss: 8.4915e-04\n",
            "Epoch 34/100\n",
            "20/20 [==============================] - 4s 200ms/step - loss: 7.1380e-04 - val_loss: 6.5537e-04\n",
            "Epoch 35/100\n",
            "20/20 [==============================] - 4s 198ms/step - loss: 6.6653e-04 - val_loss: 6.1027e-04\n",
            "Epoch 36/100\n",
            "20/20 [==============================] - 4s 199ms/step - loss: 6.6619e-04 - val_loss: 8.3255e-04\n",
            "Epoch 37/100\n",
            "20/20 [==============================] - 4s 198ms/step - loss: 7.0701e-04 - val_loss: 8.1210e-04\n",
            "Epoch 38/100\n",
            "20/20 [==============================] - 4s 201ms/step - loss: 6.8779e-04 - val_loss: 5.7268e-04\n",
            "Epoch 39/100\n",
            "20/20 [==============================] - 4s 198ms/step - loss: 6.8023e-04 - val_loss: 6.2189e-04\n",
            "Epoch 40/100\n",
            "20/20 [==============================] - 4s 198ms/step - loss: 8.8625e-04 - val_loss: 4.8479e-04\n",
            "Epoch 41/100\n",
            "20/20 [==============================] - 4s 201ms/step - loss: 6.3314e-04 - val_loss: 6.7918e-04\n",
            "Epoch 42/100\n",
            "20/20 [==============================] - 4s 198ms/step - loss: 6.0151e-04 - val_loss: 5.4168e-04\n",
            "Epoch 43/100\n",
            "20/20 [==============================] - 4s 201ms/step - loss: 8.1413e-04 - val_loss: 7.0761e-04\n",
            "Epoch 44/100\n",
            "20/20 [==============================] - 4s 202ms/step - loss: 6.2158e-04 - val_loss: 6.8570e-04\n",
            "Epoch 45/100\n",
            "20/20 [==============================] - 4s 200ms/step - loss: 6.2353e-04 - val_loss: 7.1056e-04\n",
            "Epoch 46/100\n",
            "20/20 [==============================] - 4s 202ms/step - loss: 6.0308e-04 - val_loss: 0.0010\n",
            "Epoch 47/100\n",
            "20/20 [==============================] - 4s 201ms/step - loss: 8.7705e-04 - val_loss: 5.9837e-04\n",
            "Epoch 48/100\n",
            "20/20 [==============================] - 4s 199ms/step - loss: 6.2167e-04 - val_loss: 6.9331e-04\n",
            "Epoch 49/100\n",
            "20/20 [==============================] - 4s 203ms/step - loss: 5.8084e-04 - val_loss: 6.0485e-04\n",
            "Epoch 50/100\n",
            "20/20 [==============================] - 4s 201ms/step - loss: 5.6674e-04 - val_loss: 4.7022e-04\n",
            "Epoch 51/100\n",
            "20/20 [==============================] - 4s 199ms/step - loss: 5.6145e-04 - val_loss: 5.5434e-04\n",
            "Epoch 52/100\n",
            "20/20 [==============================] - 4s 203ms/step - loss: 5.8549e-04 - val_loss: 4.6819e-04\n",
            "Epoch 53/100\n",
            "20/20 [==============================] - 4s 202ms/step - loss: 5.5571e-04 - val_loss: 5.1441e-04\n",
            "Epoch 54/100\n",
            "20/20 [==============================] - 4s 203ms/step - loss: 5.9590e-04 - val_loss: 5.8344e-04\n",
            "Epoch 55/100\n",
            "20/20 [==============================] - 4s 202ms/step - loss: 5.4945e-04 - val_loss: 4.7260e-04\n",
            "Epoch 56/100\n",
            "20/20 [==============================] - 4s 201ms/step - loss: 5.1634e-04 - val_loss: 6.2481e-04\n",
            "Epoch 57/100\n",
            "20/20 [==============================] - 4s 203ms/step - loss: 5.0441e-04 - val_loss: 4.7625e-04\n",
            "Epoch 58/100\n",
            "20/20 [==============================] - 4s 202ms/step - loss: 5.5809e-04 - val_loss: 4.1343e-04\n",
            "Epoch 59/100\n",
            "20/20 [==============================] - 4s 202ms/step - loss: 5.1580e-04 - val_loss: 6.0003e-04\n",
            "Epoch 60/100\n",
            "20/20 [==============================] - 4s 203ms/step - loss: 5.2749e-04 - val_loss: 6.7393e-04\n",
            "Epoch 61/100\n",
            "20/20 [==============================] - 4s 204ms/step - loss: 5.4586e-04 - val_loss: 4.7181e-04\n",
            "Epoch 62/100\n",
            "20/20 [==============================] - 4s 206ms/step - loss: 4.7645e-04 - val_loss: 5.0723e-04\n",
            "Epoch 63/100\n",
            "20/20 [==============================] - 4s 203ms/step - loss: 4.8079e-04 - val_loss: 3.9451e-04\n",
            "Epoch 64/100\n",
            "20/20 [==============================] - 4s 202ms/step - loss: 5.4660e-04 - val_loss: 4.5105e-04\n",
            "Epoch 65/100\n",
            "20/20 [==============================] - 4s 203ms/step - loss: 4.6378e-04 - val_loss: 4.7061e-04\n",
            "Epoch 66/100\n",
            "20/20 [==============================] - 4s 201ms/step - loss: 6.2856e-04 - val_loss: 4.5596e-04\n",
            "Epoch 67/100\n",
            "20/20 [==============================] - 4s 202ms/step - loss: 5.1436e-04 - val_loss: 4.6214e-04\n",
            "Epoch 68/100\n",
            "20/20 [==============================] - 4s 203ms/step - loss: 5.1317e-04 - val_loss: 4.2766e-04\n",
            "Epoch 69/100\n",
            "20/20 [==============================] - 4s 203ms/step - loss: 5.4689e-04 - val_loss: 5.0616e-04\n",
            "Epoch 70/100\n",
            "20/20 [==============================] - 4s 205ms/step - loss: 5.1107e-04 - val_loss: 3.7414e-04\n",
            "Epoch 71/100\n",
            "20/20 [==============================] - 4s 202ms/step - loss: 4.8937e-04 - val_loss: 3.9487e-04\n",
            "Epoch 72/100\n",
            "20/20 [==============================] - 4s 204ms/step - loss: 4.1008e-04 - val_loss: 4.3820e-04\n",
            "Epoch 73/100\n",
            "20/20 [==============================] - 4s 206ms/step - loss: 4.1166e-04 - val_loss: 4.4046e-04\n",
            "Epoch 74/100\n",
            "20/20 [==============================] - 4s 204ms/step - loss: 4.2502e-04 - val_loss: 3.8624e-04\n",
            "Epoch 75/100\n",
            "20/20 [==============================] - 4s 206ms/step - loss: 3.9927e-04 - val_loss: 4.2886e-04\n",
            "Epoch 76/100\n",
            "20/20 [==============================] - 4s 205ms/step - loss: 4.2644e-04 - val_loss: 3.7195e-04\n",
            "Epoch 77/100\n",
            "20/20 [==============================] - 4s 204ms/step - loss: 4.0810e-04 - val_loss: 4.0951e-04\n",
            "Epoch 78/100\n",
            "20/20 [==============================] - 4s 204ms/step - loss: 4.0408e-04 - val_loss: 4.1015e-04\n",
            "Epoch 79/100\n",
            "20/20 [==============================] - 4s 204ms/step - loss: 3.6971e-04 - val_loss: 5.0445e-04\n",
            "Epoch 80/100\n",
            "20/20 [==============================] - 4s 202ms/step - loss: 3.6983e-04 - val_loss: 3.5782e-04\n",
            "Epoch 81/100\n",
            "20/20 [==============================] - 4s 204ms/step - loss: 3.7007e-04 - val_loss: 4.9500e-04\n",
            "Epoch 82/100\n",
            "20/20 [==============================] - 4s 202ms/step - loss: 3.9107e-04 - val_loss: 3.9017e-04\n",
            "Epoch 83/100\n",
            "20/20 [==============================] - 4s 204ms/step - loss: 3.7383e-04 - val_loss: 3.1993e-04\n",
            "Epoch 84/100\n",
            "20/20 [==============================] - 4s 202ms/step - loss: 4.7541e-04 - val_loss: 3.8077e-04\n",
            "Epoch 85/100\n",
            "20/20 [==============================] - 4s 205ms/step - loss: 4.3823e-04 - val_loss: 3.2526e-04\n",
            "Epoch 86/100\n",
            "20/20 [==============================] - 4s 202ms/step - loss: 5.5214e-04 - val_loss: 9.3238e-04\n",
            "Epoch 87/100\n",
            "20/20 [==============================] - 4s 206ms/step - loss: 6.9409e-04 - val_loss: 3.9272e-04\n",
            "Epoch 88/100\n",
            "20/20 [==============================] - 4s 207ms/step - loss: 3.9247e-04 - val_loss: 5.9946e-04\n",
            "Epoch 89/100\n",
            "20/20 [==============================] - 4s 203ms/step - loss: 4.6947e-04 - val_loss: 3.1376e-04\n",
            "Epoch 90/100\n",
            "20/20 [==============================] - 4s 204ms/step - loss: 3.5198e-04 - val_loss: 2.8002e-04\n",
            "Epoch 91/100\n",
            "20/20 [==============================] - 4s 208ms/step - loss: 4.1390e-04 - val_loss: 4.7762e-04\n",
            "Epoch 92/100\n",
            "20/20 [==============================] - 4s 205ms/step - loss: 4.1193e-04 - val_loss: 3.1035e-04\n",
            "Epoch 93/100\n",
            "20/20 [==============================] - 4s 204ms/step - loss: 3.6391e-04 - val_loss: 3.7075e-04\n",
            "Epoch 94/100\n",
            "20/20 [==============================] - 4s 206ms/step - loss: 3.1374e-04 - val_loss: 3.6674e-04\n",
            "Epoch 95/100\n",
            "20/20 [==============================] - 4s 205ms/step - loss: 3.6201e-04 - val_loss: 2.7321e-04\n",
            "Epoch 96/100\n",
            "20/20 [==============================] - 4s 203ms/step - loss: 3.3860e-04 - val_loss: 3.0788e-04\n",
            "Epoch 97/100\n",
            "20/20 [==============================] - 4s 204ms/step - loss: 3.0192e-04 - val_loss: 3.6707e-04\n",
            "Epoch 98/100\n",
            "20/20 [==============================] - 4s 204ms/step - loss: 3.0482e-04 - val_loss: 2.8367e-04\n",
            "Epoch 99/100\n",
            "20/20 [==============================] - 4s 204ms/step - loss: 3.0261e-04 - val_loss: 2.7471e-04\n",
            "Epoch 100/100\n",
            "20/20 [==============================] - 4s 201ms/step - loss: 3.5171e-04 - val_loss: 3.1401e-04\n"
          ]
        },
        {
          "output_type": "execute_result",
          "data": {
            "text/plain": [
              "<keras.callbacks.History at 0x7f7072672110>"
            ]
          },
          "metadata": {},
          "execution_count": 19
        }
      ]
    },
    {
      "cell_type": "markdown",
      "metadata": {
        "id": "JD4ArqWB2HGy"
      },
      "source": [
        "# Predict the test data and plot the output."
      ]
    },
    {
      "cell_type": "code",
      "metadata": {
        "id": "MKfLxUx7S2Za"
      },
      "source": [
        "# Lets Do the prediction and check performance metrics\n",
        "\n",
        "train_predict=model.predict(X_train)\n",
        "test_predict=model.predict(X_test)"
      ],
      "execution_count": 20,
      "outputs": []
    },
    {
      "cell_type": "code",
      "metadata": {
        "id": "9IrjvV372MgL"
      },
      "source": [
        "# Transforming the results back to original scale\n",
        "\n",
        "train_predict=scaler.inverse_transform(train_predict)\n",
        "test_predict=scaler.inverse_transform(test_predict)"
      ],
      "execution_count": 21,
      "outputs": []
    },
    {
      "cell_type": "code",
      "metadata": {
        "colab": {
          "base_uri": "https://localhost:8080/"
        },
        "id": "AjHy6Vkp2TYl",
        "outputId": "8157b5e1-6c4f-4c0d-93a3-0623102be347"
      },
      "source": [
        "# Computing the RSME matrices\n",
        "\n",
        "import math\n",
        "from sklearn.metrics import mean_squared_error\n",
        "math.sqrt(mean_squared_error(y_train,train_predict))"
      ],
      "execution_count": 22,
      "outputs": [
        {
          "output_type": "execute_result",
          "data": {
            "text/plain": [
              "168.3524775546479"
            ]
          },
          "metadata": {},
          "execution_count": 22
        }
      ]
    },
    {
      "cell_type": "code",
      "metadata": {
        "colab": {
          "base_uri": "https://localhost:8080/"
        },
        "id": "vfCU08Fv2ZaR",
        "outputId": "a7d654ff-22d8-4a75-b30d-e73ba786b424"
      },
      "source": [
        "math.sqrt(mean_squared_error(ytest,test_predict))"
      ],
      "execution_count": 23,
      "outputs": [
        {
          "output_type": "execute_result",
          "data": {
            "text/plain": [
              "117.24653436331471"
            ]
          },
          "metadata": {},
          "execution_count": 23
        }
      ]
    },
    {
      "cell_type": "code",
      "metadata": {
        "colab": {
          "base_uri": "https://localhost:8080/",
          "height": 265
        },
        "id": "ngx5Vsft2b49",
        "outputId": "7172297c-7985-48bc-b382-80872ffb858c"
      },
      "source": [
        "# Plotting the results\n",
        "\n",
        "# shift train predictions for plotting\n",
        "look_back=100 #timestamp\n",
        "trainPredictPlot = np.empty_like(df)\n",
        "trainPredictPlot[:, :] = np.nan\n",
        "trainPredictPlot[look_back:len(train_predict)+look_back, :] = train_predict\n",
        "\n",
        "# shift test predictions for plotting\n",
        "testPredictPlot = np.empty_like(df)\n",
        "testPredictPlot[:, :] = np.nan\n",
        "testPredictPlot[len(train_predict)+(look_back*2)+1:len(df)-1, :] = test_predict\n",
        "\n",
        "# plotting the train_predict and test_predict on the same plot as true data.\n",
        "plt.plot(scaler.inverse_transform(df)) # to scale the data back to original scale.\n",
        "plt.plot(trainPredictPlot)\n",
        "plt.plot(testPredictPlot)\n",
        "plt.show()"
      ],
      "execution_count": 24,
      "outputs": [
        {
          "output_type": "display_data",
          "data": {
            "image/png": "[encoded data removed]",
            "text/plain": [
              "<Figure size 432x288 with 1 Axes>"
            ]
          },
          "metadata": {
            "needs_background": "light"
          }
        }
      ]
    },
    {
      "cell_type": "markdown",
      "metadata": {
        "id": "-WxFZNbi2000"
      },
      "source": [
        "In the plot shown above, the blue represents the actual data, whereas the orange part represents the training data, and green represents the predicted output for the test data."
      ]
    },
    {
      "cell_type": "markdown",
      "metadata": {
        "id": "2D2yETgU4asM"
      },
      "source": [
        "# Predict the stock price for future 30 days."
      ]
    },
    {
      "cell_type": "code",
      "metadata": {
        "colab": {
          "base_uri": "https://localhost:8080/"
        },
        "id": "Bdddl4vA4eqQ",
        "outputId": "c023c0ad-09c5-47f3-963d-85845ed47cfd"
      },
      "source": [
        "len(test_data)"
      ],
      "execution_count": 25,
      "outputs": [
        {
          "output_type": "execute_result",
          "data": {
            "text/plain": [
              "713"
            ]
          },
          "metadata": {},
          "execution_count": 25
        }
      ]
    },
    {
      "cell_type": "code",
      "metadata": {
        "colab": {
          "base_uri": "https://localhost:8080/"
        },
        "id": "z0c9dmPU2kpp",
        "outputId": "fe570c0f-a471-4b2b-89a2-7c9a0505ec8d"
      },
      "source": [
        "# Now as we would want to consider the previous 100 values for the prediction we will substract 100 from len(test_data)\n",
        "\n",
        "x_input=test_data[613:].reshape(1,-1)\n",
        "x_input.shape"
      ],
      "execution_count": 26,
      "outputs": [
        {
          "output_type": "execute_result",
          "data": {
            "text/plain": [
              "(1, 100)"
            ]
          },
          "metadata": {},
          "execution_count": 26
        }
      ]
    },
    {
      "cell_type": "code",
      "metadata": {
        "id": "nvs8gUoH4hz5"
      },
      "source": [
        "# Converting it into a list\n",
        "\n",
        "temp_input=list(x_input)\n",
        "temp_input=temp_input[0].tolist()"
      ],
      "execution_count": 27,
      "outputs": []
    },
    {
      "cell_type": "code",
      "metadata": {
        "colab": {
          "base_uri": "https://localhost:8080/"
        },
        "id": "-FbMWMuf4_7n",
        "outputId": "2582bd88-9f59-482f-fd6e-78750164c396"
      },
      "source": [
        "# demonstrate prediction for next 30 days\n",
        "from numpy import array\n",
        "\n",
        "lst_output=[]\n",
        "n_steps=100\n",
        "i=0\n",
        "while(i<30):\n",
        "    \n",
        "    if(len(temp_input)>100):\n",
        "        #print(temp_input)\n",
        "        x_input=np.array(temp_input[1:])\n",
        "        print(\"{} day input {}\".format(i,x_input))\n",
        "        x_input=x_input.reshape(1,-1)\n",
        "        x_input = x_input.reshape((1, n_steps, 1))\n",
        "        #print(x_input)\n",
        "        yhat = model.predict(x_input, verbose=0)\n",
        "        print(\"{} day output {}\".format(i,yhat))\n",
        "        temp_input.extend(yhat[0].tolist())\n",
        "        temp_input=temp_input[1:]\n",
        "        #print(temp_input)\n",
        "        lst_output.extend(yhat.tolist())\n",
        "        i=i+1\n",
        "    else:\n",
        "        x_input = x_input.reshape((1, n_steps,1))\n",
        "        yhat = model.predict(x_input, verbose=0)\n",
        "        print(yhat[0])\n",
        "        temp_input.extend(yhat[0].tolist())\n",
        "        print(len(temp_input))\n",
        "        lst_output.extend(yhat.tolist())\n",
        "        i=i+1\n",
        "    \n",
        "\n",
        "print(lst_output)"
      ],
      "execution_count": 28,
      "outputs": [
        {
          "output_type": "stream",
          "name": "stdout",
          "text": [
            "[0.16827703]\n",
            "101\n",
            "1 day input [0.13746959 0.13990268 0.13017032 0.14152474 0.14111922 0.13138686\n",
            " 0.12915653 0.13098135 0.1269262  0.15166261 0.15004055 0.14193025\n",
            " 0.16017843 0.15693431 0.16504461 0.1770073  0.18146796 0.18815896\n",
            " 0.20924574 0.19424169 0.18106245 0.18207624 0.1960665  0.17680454\n",
            " 0.18207624 0.18004866 0.18207624 0.18876723 0.19383617 0.19099757\n",
            " 0.19505272 0.19809408 0.20640714 0.19748581 0.19525547 0.20437956\n",
            " 0.19870235 0.21796431 0.21553122 0.20600162 0.21654501 0.21654501\n",
            " 0.2175588  0.19870235 0.19018654 0.17802109 0.175588   0.16301703\n",
            " 0.16707218 0.17112733 0.17639903 0.18349554 0.1717356  0.16423358\n",
            " 0.16991079 0.17619627 0.16788321 0.16909976 0.17396594 0.17741281\n",
            " 0.18268451 0.19221411 0.18896999 0.19018654 0.17396594 0.17092457\n",
            " 0.16788321 0.17477697 0.16443633 0.14557989 0.15287916 0.15369019\n",
            " 0.15044607 0.14152474 0.15145985 0.13341444 0.12530414 0.11719384\n",
            " 0.11780211 0.12489862 0.14132198 0.13098135 0.12935929 0.13240065\n",
            " 0.12895377 0.12530414 0.13381995 0.14557989 0.15166261 0.15085158\n",
            " 0.14679643 0.14355231 0.12733171 0.14963504 0.14801298 0.15815085\n",
            " 0.16504461 0.15896188 0.16626115 0.16827703]\n",
            "1 day output [[0.17155781]]\n",
            "2 day input [0.13990268 0.13017032 0.14152474 0.14111922 0.13138686 0.12915653\n",
            " 0.13098135 0.1269262  0.15166261 0.15004055 0.14193025 0.16017843\n",
            " 0.15693431 0.16504461 0.1770073  0.18146796 0.18815896 0.20924574\n",
            " 0.19424169 0.18106245 0.18207624 0.1960665  0.17680454 0.18207624\n",
            " 0.18004866 0.18207624 0.18876723 0.19383617 0.19099757 0.19505272\n",
            " 0.19809408 0.20640714 0.19748581 0.19525547 0.20437956 0.19870235\n",
            " 0.21796431 0.21553122 0.20600162 0.21654501 0.21654501 0.2175588\n",
            " 0.19870235 0.19018654 0.17802109 0.175588   0.16301703 0.16707218\n",
            " 0.17112733 0.17639903 0.18349554 0.1717356  0.16423358 0.16991079\n",
            " 0.17619627 0.16788321 0.16909976 0.17396594 0.17741281 0.18268451\n",
            " 0.19221411 0.18896999 0.19018654 0.17396594 0.17092457 0.16788321\n",
            " 0.17477697 0.16443633 0.14557989 0.15287916 0.15369019 0.15044607\n",
            " 0.14152474 0.15145985 0.13341444 0.12530414 0.11719384 0.11780211\n",
            " 0.12489862 0.14132198 0.13098135 0.12935929 0.13240065 0.12895377\n",
            " 0.12530414 0.13381995 0.14557989 0.15166261 0.15085158 0.14679643\n",
            " 0.14355231 0.12733171 0.14963504 0.14801298 0.15815085 0.16504461\n",
            " 0.15896188 0.16626115 0.16827703 0.17155781]\n",
            "2 day output [[0.17415127]]\n",
            "3 day input [0.13017032 0.14152474 0.14111922 0.13138686 0.12915653 0.13098135\n",
            " 0.1269262  0.15166261 0.15004055 0.14193025 0.16017843 0.15693431\n",
            " 0.16504461 0.1770073  0.18146796 0.18815896 0.20924574 0.19424169\n",
            " 0.18106245 0.18207624 0.1960665  0.17680454 0.18207624 0.18004866\n",
            " 0.18207624 0.18876723 0.19383617 0.19099757 0.19505272 0.19809408\n",
            " 0.20640714 0.19748581 0.19525547 0.20437956 0.19870235 0.21796431\n",
            " 0.21553122 0.20600162 0.21654501 0.21654501 0.2175588  0.19870235\n",
            " 0.19018654 0.17802109 0.175588   0.16301703 0.16707218 0.17112733\n",
            " 0.17639903 0.18349554 0.1717356  0.16423358 0.16991079 0.17619627\n",
            " 0.16788321 0.16909976 0.17396594 0.17741281 0.18268451 0.19221411\n",
            " 0.18896999 0.19018654 0.17396594 0.17092457 0.16788321 0.17477697\n",
            " 0.16443633 0.14557989 0.15287916 0.15369019 0.15044607 0.14152474\n",
            " 0.15145985 0.13341444 0.12530414 0.11719384 0.11780211 0.12489862\n",
            " 0.14132198 0.13098135 0.12935929 0.13240065 0.12895377 0.12530414\n",
            " 0.13381995 0.14557989 0.15166261 0.15085158 0.14679643 0.14355231\n",
            " 0.12733171 0.14963504 0.14801298 0.15815085 0.16504461 0.15896188\n",
            " 0.16626115 0.16827703 0.17155781 0.17415127]\n",
            "3 day output [[0.17638272]]\n",
            "4 day input [0.14152474 0.14111922 0.13138686 0.12915653 0.13098135 0.1269262\n",
            " 0.15166261 0.15004055 0.14193025 0.16017843 0.15693431 0.16504461\n",
            " 0.1770073  0.18146796 0.18815896 0.20924574 0.19424169 0.18106245\n",
            " 0.18207624 0.1960665  0.17680454 0.18207624 0.18004866 0.18207624\n",
            " 0.18876723 0.19383617 0.19099757 0.19505272 0.19809408 0.20640714\n",
            " 0.19748581 0.19525547 0.20437956 0.19870235 0.21796431 0.21553122\n",
            " 0.20600162 0.21654501 0.21654501 0.2175588  0.19870235 0.19018654\n",
            " 0.17802109 0.175588   0.16301703 0.16707218 0.17112733 0.17639903\n",
            " 0.18349554 0.1717356  0.16423358 0.16991079 0.17619627 0.16788321\n",
            " 0.16909976 0.17396594 0.17741281 0.18268451 0.19221411 0.18896999\n",
            " 0.19018654 0.17396594 0.17092457 0.16788321 0.17477697 0.16443633\n",
            " 0.14557989 0.15287916 0.15369019 0.15044607 0.14152474 0.15145985\n",
            " 0.13341444 0.12530414 0.11719384 0.11780211 0.12489862 0.14132198\n",
            " 0.13098135 0.12935929 0.13240065 0.12895377 0.12530414 0.13381995\n",
            " 0.14557989 0.15166261 0.15085158 0.14679643 0.14355231 0.12733171\n",
            " 0.14963504 0.14801298 0.15815085 0.16504461 0.15896188 0.16626115\n",
            " 0.16827703 0.17155781 0.17415127 0.17638272]\n",
            "4 day output [[0.17843656]]\n",
            "5 day input [0.14111922 0.13138686 0.12915653 0.13098135 0.1269262  0.15166261\n",
            " 0.15004055 0.14193025 0.16017843 0.15693431 0.16504461 0.1770073\n",
            " 0.18146796 0.18815896 0.20924574 0.19424169 0.18106245 0.18207624\n",
            " 0.1960665  0.17680454 0.18207624 0.18004866 0.18207624 0.18876723\n",
            " 0.19383617 0.19099757 0.19505272 0.19809408 0.20640714 0.19748581\n",
            " 0.19525547 0.20437956 0.19870235 0.21796431 0.21553122 0.20600162\n",
            " 0.21654501 0.21654501 0.2175588  0.19870235 0.19018654 0.17802109\n",
            " 0.175588   0.16301703 0.16707218 0.17112733 0.17639903 0.18349554\n",
            " 0.1717356  0.16423358 0.16991079 0.17619627 0.16788321 0.16909976\n",
            " 0.17396594 0.17741281 0.18268451 0.19221411 0.18896999 0.19018654\n",
            " 0.17396594 0.17092457 0.16788321 0.17477697 0.16443633 0.14557989\n",
            " 0.15287916 0.15369019 0.15044607 0.14152474 0.15145985 0.13341444\n",
            " 0.12530414 0.11719384 0.11780211 0.12489862 0.14132198 0.13098135\n",
            " 0.12935929 0.13240065 0.12895377 0.12530414 0.13381995 0.14557989\n",
            " 0.15166261 0.15085158 0.14679643 0.14355231 0.12733171 0.14963504\n",
            " 0.14801298 0.15815085 0.16504461 0.15896188 0.16626115 0.16827703\n",
            " 0.17155781 0.17415127 0.17638272 0.17843656]\n",
            "5 day output [[0.18040274]]\n",
            "6 day input [0.13138686 0.12915653 0.13098135 0.1269262  0.15166261 0.15004055\n",
            " 0.14193025 0.16017843 0.15693431 0.16504461 0.1770073  0.18146796\n",
            " 0.18815896 0.20924574 0.19424169 0.18106245 0.18207624 0.1960665\n",
            " 0.17680454 0.18207624 0.18004866 0.18207624 0.18876723 0.19383617\n",
            " 0.19099757 0.19505272 0.19809408 0.20640714 0.19748581 0.19525547\n",
            " 0.20437956 0.19870235 0.21796431 0.21553122 0.20600162 0.21654501\n",
            " 0.21654501 0.2175588  0.19870235 0.19018654 0.17802109 0.175588\n",
            " 0.16301703 0.16707218 0.17112733 0.17639903 0.18349554 0.1717356\n",
            " 0.16423358 0.16991079 0.17619627 0.16788321 0.16909976 0.17396594\n",
            " 0.17741281 0.18268451 0.19221411 0.18896999 0.19018654 0.17396594\n",
            " 0.17092457 0.16788321 0.17477697 0.16443633 0.14557989 0.15287916\n",
            " 0.15369019 0.15044607 0.14152474 0.15145985 0.13341444 0.12530414\n",
            " 0.11719384 0.11780211 0.12489862 0.14132198 0.13098135 0.12935929\n",
            " 0.13240065 0.12895377 0.12530414 0.13381995 0.14557989 0.15166261\n",
            " 0.15085158 0.14679643 0.14355231 0.12733171 0.14963504 0.14801298\n",
            " 0.15815085 0.16504461 0.15896188 0.16626115 0.16827703 0.17155781\n",
            " 0.17415127 0.17638272 0.17843656 0.18040274]\n",
            "6 day output [[0.1823262]]\n",
            "7 day input [0.12915653 0.13098135 0.1269262  0.15166261 0.15004055 0.14193025\n",
            " 0.16017843 0.15693431 0.16504461 0.1770073  0.18146796 0.18815896\n",
            " 0.20924574 0.19424169 0.18106245 0.18207624 0.1960665  0.17680454\n",
            " 0.18207624 0.18004866 0.18207624 0.18876723 0.19383617 0.19099757\n",
            " 0.19505272 0.19809408 0.20640714 0.19748581 0.19525547 0.20437956\n",
            " 0.19870235 0.21796431 0.21553122 0.20600162 0.21654501 0.21654501\n",
            " 0.2175588  0.19870235 0.19018654 0.17802109 0.175588   0.16301703\n",
            " 0.16707218 0.17112733 0.17639903 0.18349554 0.1717356  0.16423358\n",
            " 0.16991079 0.17619627 0.16788321 0.16909976 0.17396594 0.17741281\n",
            " 0.18268451 0.19221411 0.18896999 0.19018654 0.17396594 0.17092457\n",
            " 0.16788321 0.17477697 0.16443633 0.14557989 0.15287916 0.15369019\n",
            " 0.15044607 0.14152474 0.15145985 0.13341444 0.12530414 0.11719384\n",
            " 0.11780211 0.12489862 0.14132198 0.13098135 0.12935929 0.13240065\n",
            " 0.12895377 0.12530414 0.13381995 0.14557989 0.15166261 0.15085158\n",
            " 0.14679643 0.14355231 0.12733171 0.14963504 0.14801298 0.15815085\n",
            " 0.16504461 0.15896188 0.16626115 0.16827703 0.17155781 0.17415127\n",
            " 0.17638272 0.17843656 0.18040274 0.1823262 ]\n",
            "7 day output [[0.18423319]]\n",
            "8 day input [0.13098135 0.1269262  0.15166261 0.15004055 0.14193025 0.16017843\n",
            " 0.15693431 0.16504461 0.1770073  0.18146796 0.18815896 0.20924574\n",
            " 0.19424169 0.18106245 0.18207624 0.1960665  0.17680454 0.18207624\n",
            " 0.18004866 0.18207624 0.18876723 0.19383617 0.19099757 0.19505272\n",
            " 0.19809408 0.20640714 0.19748581 0.19525547 0.20437956 0.19870235\n",
            " 0.21796431 0.21553122 0.20600162 0.21654501 0.21654501 0.2175588\n",
            " 0.19870235 0.19018654 0.17802109 0.175588   0.16301703 0.16707218\n",
            " 0.17112733 0.17639903 0.18349554 0.1717356  0.16423358 0.16991079\n",
            " 0.17619627 0.16788321 0.16909976 0.17396594 0.17741281 0.18268451\n",
            " 0.19221411 0.18896999 0.19018654 0.17396594 0.17092457 0.16788321\n",
            " 0.17477697 0.16443633 0.14557989 0.15287916 0.15369019 0.15044607\n",
            " 0.14152474 0.15145985 0.13341444 0.12530414 0.11719384 0.11780211\n",
            " 0.12489862 0.14132198 0.13098135 0.12935929 0.13240065 0.12895377\n",
            " 0.12530414 0.13381995 0.14557989 0.15166261 0.15085158 0.14679643\n",
            " 0.14355231 0.12733171 0.14963504 0.14801298 0.15815085 0.16504461\n",
            " 0.15896188 0.16626115 0.16827703 0.17155781 0.17415127 0.17638272\n",
            " 0.17843656 0.18040274 0.1823262  0.18423319]\n",
            "8 day output [[0.18614048]]\n",
            "9 day input [0.1269262  0.15166261 0.15004055 0.14193025 0.16017843 0.15693431\n",
            " 0.16504461 0.1770073  0.18146796 0.18815896 0.20924574 0.19424169\n",
            " 0.18106245 0.18207624 0.1960665  0.17680454 0.18207624 0.18004866\n",
            " 0.18207624 0.18876723 0.19383617 0.19099757 0.19505272 0.19809408\n",
            " 0.20640714 0.19748581 0.19525547 0.20437956 0.19870235 0.21796431\n",
            " 0.21553122 0.20600162 0.21654501 0.21654501 0.2175588  0.19870235\n",
            " 0.19018654 0.17802109 0.175588   0.16301703 0.16707218 0.17112733\n",
            " 0.17639903 0.18349554 0.1717356  0.16423358 0.16991079 0.17619627\n",
            " 0.16788321 0.16909976 0.17396594 0.17741281 0.18268451 0.19221411\n",
            " 0.18896999 0.19018654 0.17396594 0.17092457 0.16788321 0.17477697\n",
            " 0.16443633 0.14557989 0.15287916 0.15369019 0.15044607 0.14152474\n",
            " 0.15145985 0.13341444 0.12530414 0.11719384 0.11780211 0.12489862\n",
            " 0.14132198 0.13098135 0.12935929 0.13240065 0.12895377 0.12530414\n",
            " 0.13381995 0.14557989 0.15166261 0.15085158 0.14679643 0.14355231\n",
            " 0.12733171 0.14963504 0.14801298 0.15815085 0.16504461 0.15896188\n",
            " 0.16626115 0.16827703 0.17155781 0.17415127 0.17638272 0.17843656\n",
            " 0.18040274 0.1823262  0.18423319 0.18614048]\n",
            "9 day output [[0.18805759]]\n",
            "10 day input [0.15166261 0.15004055 0.14193025 0.16017843 0.15693431 0.16504461\n",
            " 0.1770073  0.18146796 0.18815896 0.20924574 0.19424169 0.18106245\n",
            " 0.18207624 0.1960665  0.17680454 0.18207624 0.18004866 0.18207624\n",
            " 0.18876723 0.19383617 0.19099757 0.19505272 0.19809408 0.20640714\n",
            " 0.19748581 0.19525547 0.20437956 0.19870235 0.21796431 0.21553122\n",
            " 0.20600162 0.21654501 0.21654501 0.2175588  0.19870235 0.19018654\n",
            " 0.17802109 0.175588   0.16301703 0.16707218 0.17112733 0.17639903\n",
            " 0.18349554 0.1717356  0.16423358 0.16991079 0.17619627 0.16788321\n",
            " 0.16909976 0.17396594 0.17741281 0.18268451 0.19221411 0.18896999\n",
            " 0.19018654 0.17396594 0.17092457 0.16788321 0.17477697 0.16443633\n",
            " 0.14557989 0.15287916 0.15369019 0.15044607 0.14152474 0.15145985\n",
            " 0.13341444 0.12530414 0.11719384 0.11780211 0.12489862 0.14132198\n",
            " 0.13098135 0.12935929 0.13240065 0.12895377 0.12530414 0.13381995\n",
            " 0.14557989 0.15166261 0.15085158 0.14679643 0.14355231 0.12733171\n",
            " 0.14963504 0.14801298 0.15815085 0.16504461 0.15896188 0.16626115\n",
            " 0.16827703 0.17155781 0.17415127 0.17638272 0.17843656 0.18040274\n",
            " 0.1823262  0.18423319 0.18614048 0.18805759]\n",
            "10 day output [[0.18998735]]\n",
            "11 day input [0.15004055 0.14193025 0.16017843 0.15693431 0.16504461 0.1770073\n",
            " 0.18146796 0.18815896 0.20924574 0.19424169 0.18106245 0.18207624\n",
            " 0.1960665  0.17680454 0.18207624 0.18004866 0.18207624 0.18876723\n",
            " 0.19383617 0.19099757 0.19505272 0.19809408 0.20640714 0.19748581\n",
            " 0.19525547 0.20437956 0.19870235 0.21796431 0.21553122 0.20600162\n",
            " 0.21654501 0.21654501 0.2175588  0.19870235 0.19018654 0.17802109\n",
            " 0.175588   0.16301703 0.16707218 0.17112733 0.17639903 0.18349554\n",
            " 0.1717356  0.16423358 0.16991079 0.17619627 0.16788321 0.16909976\n",
            " 0.17396594 0.17741281 0.18268451 0.19221411 0.18896999 0.19018654\n",
            " 0.17396594 0.17092457 0.16788321 0.17477697 0.16443633 0.14557989\n",
            " 0.15287916 0.15369019 0.15044607 0.14152474 0.15145985 0.13341444\n",
            " 0.12530414 0.11719384 0.11780211 0.12489862 0.14132198 0.13098135\n",
            " 0.12935929 0.13240065 0.12895377 0.12530414 0.13381995 0.14557989\n",
            " 0.15166261 0.15085158 0.14679643 0.14355231 0.12733171 0.14963504\n",
            " 0.14801298 0.15815085 0.16504461 0.15896188 0.16626115 0.16827703\n",
            " 0.17155781 0.17415127 0.17638272 0.17843656 0.18040274 0.1823262\n",
            " 0.18423319 0.18614048 0.18805759 0.18998735]\n",
            "11 day output [[0.1919273]]\n",
            "12 day input [0.14193025 0.16017843 0.15693431 0.16504461 0.1770073  0.18146796\n",
            " 0.18815896 0.20924574 0.19424169 0.18106245 0.18207624 0.1960665\n",
            " 0.17680454 0.18207624 0.18004866 0.18207624 0.18876723 0.19383617\n",
            " 0.19099757 0.19505272 0.19809408 0.20640714 0.19748581 0.19525547\n",
            " 0.20437956 0.19870235 0.21796431 0.21553122 0.20600162 0.21654501\n",
            " 0.21654501 0.2175588  0.19870235 0.19018654 0.17802109 0.175588\n",
            " 0.16301703 0.16707218 0.17112733 0.17639903 0.18349554 0.1717356\n",
            " 0.16423358 0.16991079 0.17619627 0.16788321 0.16909976 0.17396594\n",
            " 0.17741281 0.18268451 0.19221411 0.18896999 0.19018654 0.17396594\n",
            " 0.17092457 0.16788321 0.17477697 0.16443633 0.14557989 0.15287916\n",
            " 0.15369019 0.15044607 0.14152474 0.15145985 0.13341444 0.12530414\n",
            " 0.11719384 0.11780211 0.12489862 0.14132198 0.13098135 0.12935929\n",
            " 0.13240065 0.12895377 0.12530414 0.13381995 0.14557989 0.15166261\n",
            " 0.15085158 0.14679643 0.14355231 0.12733171 0.14963504 0.14801298\n",
            " 0.15815085 0.16504461 0.15896188 0.16626115 0.16827703 0.17155781\n",
            " 0.17415127 0.17638272 0.17843656 0.18040274 0.1823262  0.18423319\n",
            " 0.18614048 0.18805759 0.18998735 0.1919273 ]\n",
            "12 day output [[0.19387132]]\n",
            "13 day input [0.16017843 0.15693431 0.16504461 0.1770073  0.18146796 0.18815896\n",
            " 0.20924574 0.19424169 0.18106245 0.18207624 0.1960665  0.17680454\n",
            " 0.18207624 0.18004866 0.18207624 0.18876723 0.19383617 0.19099757\n",
            " 0.19505272 0.19809408 0.20640714 0.19748581 0.19525547 0.20437956\n",
            " 0.19870235 0.21796431 0.21553122 0.20600162 0.21654501 0.21654501\n",
            " 0.2175588  0.19870235 0.19018654 0.17802109 0.175588   0.16301703\n",
            " 0.16707218 0.17112733 0.17639903 0.18349554 0.1717356  0.16423358\n",
            " 0.16991079 0.17619627 0.16788321 0.16909976 0.17396594 0.17741281\n",
            " 0.18268451 0.19221411 0.18896999 0.19018654 0.17396594 0.17092457\n",
            " 0.16788321 0.17477697 0.16443633 0.14557989 0.15287916 0.15369019\n",
            " 0.15044607 0.14152474 0.15145985 0.13341444 0.12530414 0.11719384\n",
            " 0.11780211 0.12489862 0.14132198 0.13098135 0.12935929 0.13240065\n",
            " 0.12895377 0.12530414 0.13381995 0.14557989 0.15166261 0.15085158\n",
            " 0.14679643 0.14355231 0.12733171 0.14963504 0.14801298 0.15815085\n",
            " 0.16504461 0.15896188 0.16626115 0.16827703 0.17155781 0.17415127\n",
            " 0.17638272 0.17843656 0.18040274 0.1823262  0.18423319 0.18614048\n",
            " 0.18805759 0.18998735 0.1919273  0.19387132]\n",
            "13 day output [[0.19581178]]\n",
            "14 day input [0.15693431 0.16504461 0.1770073  0.18146796 0.18815896 0.20924574\n",
            " 0.19424169 0.18106245 0.18207624 0.1960665  0.17680454 0.18207624\n",
            " 0.18004866 0.18207624 0.18876723 0.19383617 0.19099757 0.19505272\n",
            " 0.19809408 0.20640714 0.19748581 0.19525547 0.20437956 0.19870235\n",
            " 0.21796431 0.21553122 0.20600162 0.21654501 0.21654501 0.2175588\n",
            " 0.19870235 0.19018654 0.17802109 0.175588   0.16301703 0.16707218\n",
            " 0.17112733 0.17639903 0.18349554 0.1717356  0.16423358 0.16991079\n",
            " 0.17619627 0.16788321 0.16909976 0.17396594 0.17741281 0.18268451\n",
            " 0.19221411 0.18896999 0.19018654 0.17396594 0.17092457 0.16788321\n",
            " 0.17477697 0.16443633 0.14557989 0.15287916 0.15369019 0.15044607\n",
            " 0.14152474 0.15145985 0.13341444 0.12530414 0.11719384 0.11780211\n",
            " 0.12489862 0.14132198 0.13098135 0.12935929 0.13240065 0.12895377\n",
            " 0.12530414 0.13381995 0.14557989 0.15166261 0.15085158 0.14679643\n",
            " 0.14355231 0.12733171 0.14963504 0.14801298 0.15815085 0.16504461\n",
            " 0.15896188 0.16626115 0.16827703 0.17155781 0.17415127 0.17638272\n",
            " 0.17843656 0.18040274 0.1823262  0.18423319 0.18614048 0.18805759\n",
            " 0.18998735 0.1919273  0.19387132 0.19581178]\n",
            "14 day output [[0.1977411]]\n",
            "15 day input [0.16504461 0.1770073  0.18146796 0.18815896 0.20924574 0.19424169\n",
            " 0.18106245 0.18207624 0.1960665  0.17680454 0.18207624 0.18004866\n",
            " 0.18207624 0.18876723 0.19383617 0.19099757 0.19505272 0.19809408\n",
            " 0.20640714 0.19748581 0.19525547 0.20437956 0.19870235 0.21796431\n",
            " 0.21553122 0.20600162 0.21654501 0.21654501 0.2175588  0.19870235\n",
            " 0.19018654 0.17802109 0.175588   0.16301703 0.16707218 0.17112733\n",
            " 0.17639903 0.18349554 0.1717356  0.16423358 0.16991079 0.17619627\n",
            " 0.16788321 0.16909976 0.17396594 0.17741281 0.18268451 0.19221411\n",
            " 0.18896999 0.19018654 0.17396594 0.17092457 0.16788321 0.17477697\n",
            " 0.16443633 0.14557989 0.15287916 0.15369019 0.15044607 0.14152474\n",
            " 0.15145985 0.13341444 0.12530414 0.11719384 0.11780211 0.12489862\n",
            " 0.14132198 0.13098135 0.12935929 0.13240065 0.12895377 0.12530414\n",
            " 0.13381995 0.14557989 0.15166261 0.15085158 0.14679643 0.14355231\n",
            " 0.12733171 0.14963504 0.14801298 0.15815085 0.16504461 0.15896188\n",
            " 0.16626115 0.16827703 0.17155781 0.17415127 0.17638272 0.17843656\n",
            " 0.18040274 0.1823262  0.18423319 0.18614048 0.18805759 0.18998735\n",
            " 0.1919273  0.19387132 0.19581178 0.19774111]\n",
            "15 day output [[0.19965287]]\n",
            "16 day input [0.1770073  0.18146796 0.18815896 0.20924574 0.19424169 0.18106245\n",
            " 0.18207624 0.1960665  0.17680454 0.18207624 0.18004866 0.18207624\n",
            " 0.18876723 0.19383617 0.19099757 0.19505272 0.19809408 0.20640714\n",
            " 0.19748581 0.19525547 0.20437956 0.19870235 0.21796431 0.21553122\n",
            " 0.20600162 0.21654501 0.21654501 0.2175588  0.19870235 0.19018654\n",
            " 0.17802109 0.175588   0.16301703 0.16707218 0.17112733 0.17639903\n",
            " 0.18349554 0.1717356  0.16423358 0.16991079 0.17619627 0.16788321\n",
            " 0.16909976 0.17396594 0.17741281 0.18268451 0.19221411 0.18896999\n",
            " 0.19018654 0.17396594 0.17092457 0.16788321 0.17477697 0.16443633\n",
            " 0.14557989 0.15287916 0.15369019 0.15044607 0.14152474 0.15145985\n",
            " 0.13341444 0.12530414 0.11719384 0.11780211 0.12489862 0.14132198\n",
            " 0.13098135 0.12935929 0.13240065 0.12895377 0.12530414 0.13381995\n",
            " 0.14557989 0.15166261 0.15085158 0.14679643 0.14355231 0.12733171\n",
            " 0.14963504 0.14801298 0.15815085 0.16504461 0.15896188 0.16626115\n",
            " 0.16827703 0.17155781 0.17415127 0.17638272 0.17843656 0.18040274\n",
            " 0.1823262  0.18423319 0.18614048 0.18805759 0.18998735 0.1919273\n",
            " 0.19387132 0.19581178 0.19774111 0.19965287]\n",
            "16 day output [[0.20154265]]\n",
            "17 day input [0.18146796 0.18815896 0.20924574 0.19424169 0.18106245 0.18207624\n",
            " 0.1960665  0.17680454 0.18207624 0.18004866 0.18207624 0.18876723\n",
            " 0.19383617 0.19099757 0.19505272 0.19809408 0.20640714 0.19748581\n",
            " 0.19525547 0.20437956 0.19870235 0.21796431 0.21553122 0.20600162\n",
            " 0.21654501 0.21654501 0.2175588  0.19870235 0.19018654 0.17802109\n",
            " 0.175588   0.16301703 0.16707218 0.17112733 0.17639903 0.18349554\n",
            " 0.1717356  0.16423358 0.16991079 0.17619627 0.16788321 0.16909976\n",
            " 0.17396594 0.17741281 0.18268451 0.19221411 0.18896999 0.19018654\n",
            " 0.17396594 0.17092457 0.16788321 0.17477697 0.16443633 0.14557989\n",
            " 0.15287916 0.15369019 0.15044607 0.14152474 0.15145985 0.13341444\n",
            " 0.12530414 0.11719384 0.11780211 0.12489862 0.14132198 0.13098135\n",
            " 0.12935929 0.13240065 0.12895377 0.12530414 0.13381995 0.14557989\n",
            " 0.15166261 0.15085158 0.14679643 0.14355231 0.12733171 0.14963504\n",
            " 0.14801298 0.15815085 0.16504461 0.15896188 0.16626115 0.16827703\n",
            " 0.17155781 0.17415127 0.17638272 0.17843656 0.18040274 0.1823262\n",
            " 0.18423319 0.18614048 0.18805759 0.18998735 0.1919273  0.19387132\n",
            " 0.19581178 0.19774111 0.19965287 0.20154265]\n",
            "17 day output [[0.20340817]]\n",
            "18 day input [0.18815896 0.20924574 0.19424169 0.18106245 0.18207624 0.1960665\n",
            " 0.17680454 0.18207624 0.18004866 0.18207624 0.18876723 0.19383617\n",
            " 0.19099757 0.19505272 0.19809408 0.20640714 0.19748581 0.19525547\n",
            " 0.20437956 0.19870235 0.21796431 0.21553122 0.20600162 0.21654501\n",
            " 0.21654501 0.2175588  0.19870235 0.19018654 0.17802109 0.175588\n",
            " 0.16301703 0.16707218 0.17112733 0.17639903 0.18349554 0.1717356\n",
            " 0.16423358 0.16991079 0.17619627 0.16788321 0.16909976 0.17396594\n",
            " 0.17741281 0.18268451 0.19221411 0.18896999 0.19018654 0.17396594\n",
            " 0.17092457 0.16788321 0.17477697 0.16443633 0.14557989 0.15287916\n",
            " 0.15369019 0.15044607 0.14152474 0.15145985 0.13341444 0.12530414\n",
            " 0.11719384 0.11780211 0.12489862 0.14132198 0.13098135 0.12935929\n",
            " 0.13240065 0.12895377 0.12530414 0.13381995 0.14557989 0.15166261\n",
            " 0.15085158 0.14679643 0.14355231 0.12733171 0.14963504 0.14801298\n",
            " 0.15815085 0.16504461 0.15896188 0.16626115 0.16827703 0.17155781\n",
            " 0.17415127 0.17638272 0.17843656 0.18040274 0.1823262  0.18423319\n",
            " 0.18614048 0.18805759 0.18998735 0.1919273  0.19387132 0.19581178\n",
            " 0.19774111 0.19965287 0.20154265 0.20340817]\n",
            "18 day output [[0.20524922]]\n",
            "19 day input [0.20924574 0.19424169 0.18106245 0.18207624 0.1960665  0.17680454\n",
            " 0.18207624 0.18004866 0.18207624 0.18876723 0.19383617 0.19099757\n",
            " 0.19505272 0.19809408 0.20640714 0.19748581 0.19525547 0.20437956\n",
            " 0.19870235 0.21796431 0.21553122 0.20600162 0.21654501 0.21654501\n",
            " 0.2175588  0.19870235 0.19018654 0.17802109 0.175588   0.16301703\n",
            " 0.16707218 0.17112733 0.17639903 0.18349554 0.1717356  0.16423358\n",
            " 0.16991079 0.17619627 0.16788321 0.16909976 0.17396594 0.17741281\n",
            " 0.18268451 0.19221411 0.18896999 0.19018654 0.17396594 0.17092457\n",
            " 0.16788321 0.17477697 0.16443633 0.14557989 0.15287916 0.15369019\n",
            " 0.15044607 0.14152474 0.15145985 0.13341444 0.12530414 0.11719384\n",
            " 0.11780211 0.12489862 0.14132198 0.13098135 0.12935929 0.13240065\n",
            " 0.12895377 0.12530414 0.13381995 0.14557989 0.15166261 0.15085158\n",
            " 0.14679643 0.14355231 0.12733171 0.14963504 0.14801298 0.15815085\n",
            " 0.16504461 0.15896188 0.16626115 0.16827703 0.17155781 0.17415127\n",
            " 0.17638272 0.17843656 0.18040274 0.1823262  0.18423319 0.18614048\n",
            " 0.18805759 0.18998735 0.1919273  0.19387132 0.19581178 0.19774111\n",
            " 0.19965287 0.20154265 0.20340817 0.20524922]\n",
            "19 day output [[0.2070671]]\n",
            "20 day input [0.19424169 0.18106245 0.18207624 0.1960665  0.17680454 0.18207624\n",
            " 0.18004866 0.18207624 0.18876723 0.19383617 0.19099757 0.19505272\n",
            " 0.19809408 0.20640714 0.19748581 0.19525547 0.20437956 0.19870235\n",
            " 0.21796431 0.21553122 0.20600162 0.21654501 0.21654501 0.2175588\n",
            " 0.19870235 0.19018654 0.17802109 0.175588   0.16301703 0.16707218\n",
            " 0.17112733 0.17639903 0.18349554 0.1717356  0.16423358 0.16991079\n",
            " 0.17619627 0.16788321 0.16909976 0.17396594 0.17741281 0.18268451\n",
            " 0.19221411 0.18896999 0.19018654 0.17396594 0.17092457 0.16788321\n",
            " 0.17477697 0.16443633 0.14557989 0.15287916 0.15369019 0.15044607\n",
            " 0.14152474 0.15145985 0.13341444 0.12530414 0.11719384 0.11780211\n",
            " 0.12489862 0.14132198 0.13098135 0.12935929 0.13240065 0.12895377\n",
            " 0.12530414 0.13381995 0.14557989 0.15166261 0.15085158 0.14679643\n",
            " 0.14355231 0.12733171 0.14963504 0.14801298 0.15815085 0.16504461\n",
            " 0.15896188 0.16626115 0.16827703 0.17155781 0.17415127 0.17638272\n",
            " 0.17843656 0.18040274 0.1823262  0.18423319 0.18614048 0.18805759\n",
            " 0.18998735 0.1919273  0.19387132 0.19581178 0.19774111 0.19965287\n",
            " 0.20154265 0.20340817 0.20524922 0.2070671 ]\n",
            "20 day output [[0.20886447]]\n",
            "21 day input [0.18106245 0.18207624 0.1960665  0.17680454 0.18207624 0.18004866\n",
            " 0.18207624 0.18876723 0.19383617 0.19099757 0.19505272 0.19809408\n",
            " 0.20640714 0.19748581 0.19525547 0.20437956 0.19870235 0.21796431\n",
            " 0.21553122 0.20600162 0.21654501 0.21654501 0.2175588  0.19870235\n",
            " 0.19018654 0.17802109 0.175588   0.16301703 0.16707218 0.17112733\n",
            " 0.17639903 0.18349554 0.1717356  0.16423358 0.16991079 0.17619627\n",
            " 0.16788321 0.16909976 0.17396594 0.17741281 0.18268451 0.19221411\n",
            " 0.18896999 0.19018654 0.17396594 0.17092457 0.16788321 0.17477697\n",
            " 0.16443633 0.14557989 0.15287916 0.15369019 0.15044607 0.14152474\n",
            " 0.15145985 0.13341444 0.12530414 0.11719384 0.11780211 0.12489862\n",
            " 0.14132198 0.13098135 0.12935929 0.13240065 0.12895377 0.12530414\n",
            " 0.13381995 0.14557989 0.15166261 0.15085158 0.14679643 0.14355231\n",
            " 0.12733171 0.14963504 0.14801298 0.15815085 0.16504461 0.15896188\n",
            " 0.16626115 0.16827703 0.17155781 0.17415127 0.17638272 0.17843656\n",
            " 0.18040274 0.1823262  0.18423319 0.18614048 0.18805759 0.18998735\n",
            " 0.1919273  0.19387132 0.19581178 0.19774111 0.19965287 0.20154265\n",
            " 0.20340817 0.20524922 0.2070671  0.20886447]\n",
            "21 day output [[0.21064444]]\n",
            "22 day input [0.18207624 0.1960665  0.17680454 0.18207624 0.18004866 0.18207624\n",
            " 0.18876723 0.19383617 0.19099757 0.19505272 0.19809408 0.20640714\n",
            " 0.19748581 0.19525547 0.20437956 0.19870235 0.21796431 0.21553122\n",
            " 0.20600162 0.21654501 0.21654501 0.2175588  0.19870235 0.19018654\n",
            " 0.17802109 0.175588   0.16301703 0.16707218 0.17112733 0.17639903\n",
            " 0.18349554 0.1717356  0.16423358 0.16991079 0.17619627 0.16788321\n",
            " 0.16909976 0.17396594 0.17741281 0.18268451 0.19221411 0.18896999\n",
            " 0.19018654 0.17396594 0.17092457 0.16788321 0.17477697 0.16443633\n",
            " 0.14557989 0.15287916 0.15369019 0.15044607 0.14152474 0.15145985\n",
            " 0.13341444 0.12530414 0.11719384 0.11780211 0.12489862 0.14132198\n",
            " 0.13098135 0.12935929 0.13240065 0.12895377 0.12530414 0.13381995\n",
            " 0.14557989 0.15166261 0.15085158 0.14679643 0.14355231 0.12733171\n",
            " 0.14963504 0.14801298 0.15815085 0.16504461 0.15896188 0.16626115\n",
            " 0.16827703 0.17155781 0.17415127 0.17638272 0.17843656 0.18040274\n",
            " 0.1823262  0.18423319 0.18614048 0.18805759 0.18998735 0.1919273\n",
            " 0.19387132 0.19581178 0.19774111 0.19965287 0.20154265 0.20340817\n",
            " 0.20524922 0.2070671  0.20886447 0.21064444]\n",
            "22 day output [[0.21241039]]\n",
            "23 day input [0.1960665  0.17680454 0.18207624 0.18004866 0.18207624 0.18876723\n",
            " 0.19383617 0.19099757 0.19505272 0.19809408 0.20640714 0.19748581\n",
            " 0.19525547 0.20437956 0.19870235 0.21796431 0.21553122 0.20600162\n",
            " 0.21654501 0.21654501 0.2175588  0.19870235 0.19018654 0.17802109\n",
            " 0.175588   0.16301703 0.16707218 0.17112733 0.17639903 0.18349554\n",
            " 0.1717356  0.16423358 0.16991079 0.17619627 0.16788321 0.16909976\n",
            " 0.17396594 0.17741281 0.18268451 0.19221411 0.18896999 0.19018654\n",
            " 0.17396594 0.17092457 0.16788321 0.17477697 0.16443633 0.14557989\n",
            " 0.15287916 0.15369019 0.15044607 0.14152474 0.15145985 0.13341444\n",
            " 0.12530414 0.11719384 0.11780211 0.12489862 0.14132198 0.13098135\n",
            " 0.12935929 0.13240065 0.12895377 0.12530414 0.13381995 0.14557989\n",
            " 0.15166261 0.15085158 0.14679643 0.14355231 0.12733171 0.14963504\n",
            " 0.14801298 0.15815085 0.16504461 0.15896188 0.16626115 0.16827703\n",
            " 0.17155781 0.17415127 0.17638272 0.17843656 0.18040274 0.1823262\n",
            " 0.18423319 0.18614048 0.18805759 0.18998735 0.1919273  0.19387132\n",
            " 0.19581178 0.19774111 0.19965287 0.20154265 0.20340817 0.20524922\n",
            " 0.2070671  0.20886447 0.21064444 0.21241039]\n",
            "23 day output [[0.21416545]]\n",
            "24 day input [0.17680454 0.18207624 0.18004866 0.18207624 0.18876723 0.19383617\n",
            " 0.19099757 0.19505272 0.19809408 0.20640714 0.19748581 0.19525547\n",
            " 0.20437956 0.19870235 0.21796431 0.21553122 0.20600162 0.21654501\n",
            " 0.21654501 0.2175588  0.19870235 0.19018654 0.17802109 0.175588\n",
            " 0.16301703 0.16707218 0.17112733 0.17639903 0.18349554 0.1717356\n",
            " 0.16423358 0.16991079 0.17619627 0.16788321 0.16909976 0.17396594\n",
            " 0.17741281 0.18268451 0.19221411 0.18896999 0.19018654 0.17396594\n",
            " 0.17092457 0.16788321 0.17477697 0.16443633 0.14557989 0.15287916\n",
            " 0.15369019 0.15044607 0.14152474 0.15145985 0.13341444 0.12530414\n",
            " 0.11719384 0.11780211 0.12489862 0.14132198 0.13098135 0.12935929\n",
            " 0.13240065 0.12895377 0.12530414 0.13381995 0.14557989 0.15166261\n",
            " 0.15085158 0.14679643 0.14355231 0.12733171 0.14963504 0.14801298\n",
            " 0.15815085 0.16504461 0.15896188 0.16626115 0.16827703 0.17155781\n",
            " 0.17415127 0.17638272 0.17843656 0.18040274 0.1823262  0.18423319\n",
            " 0.18614048 0.18805759 0.18998735 0.1919273  0.19387132 0.19581178\n",
            " 0.19774111 0.19965287 0.20154265 0.20340817 0.20524922 0.2070671\n",
            " 0.20886447 0.21064444 0.21241039 0.21416545]\n",
            "24 day output [[0.21591228]]\n",
            "25 day input [0.18207624 0.18004866 0.18207624 0.18876723 0.19383617 0.19099757\n",
            " 0.19505272 0.19809408 0.20640714 0.19748581 0.19525547 0.20437956\n",
            " 0.19870235 0.21796431 0.21553122 0.20600162 0.21654501 0.21654501\n",
            " 0.2175588  0.19870235 0.19018654 0.17802109 0.175588   0.16301703\n",
            " 0.16707218 0.17112733 0.17639903 0.18349554 0.1717356  0.16423358\n",
            " 0.16991079 0.17619627 0.16788321 0.16909976 0.17396594 0.17741281\n",
            " 0.18268451 0.19221411 0.18896999 0.19018654 0.17396594 0.17092457\n",
            " 0.16788321 0.17477697 0.16443633 0.14557989 0.15287916 0.15369019\n",
            " 0.15044607 0.14152474 0.15145985 0.13341444 0.12530414 0.11719384\n",
            " 0.11780211 0.12489862 0.14132198 0.13098135 0.12935929 0.13240065\n",
            " 0.12895377 0.12530414 0.13381995 0.14557989 0.15166261 0.15085158\n",
            " 0.14679643 0.14355231 0.12733171 0.14963504 0.14801298 0.15815085\n",
            " 0.16504461 0.15896188 0.16626115 0.16827703 0.17155781 0.17415127\n",
            " 0.17638272 0.17843656 0.18040274 0.1823262  0.18423319 0.18614048\n",
            " 0.18805759 0.18998735 0.1919273  0.19387132 0.19581178 0.19774111\n",
            " 0.19965287 0.20154265 0.20340817 0.20524922 0.2070671  0.20886447\n",
            " 0.21064444 0.21241039 0.21416545 0.21591228]\n",
            "25 day output [[0.21765302]]\n",
            "26 day input [0.18004866 0.18207624 0.18876723 0.19383617 0.19099757 0.19505272\n",
            " 0.19809408 0.20640714 0.19748581 0.19525547 0.20437956 0.19870235\n",
            " 0.21796431 0.21553122 0.20600162 0.21654501 0.21654501 0.2175588\n",
            " 0.19870235 0.19018654 0.17802109 0.175588   0.16301703 0.16707218\n",
            " 0.17112733 0.17639903 0.18349554 0.1717356  0.16423358 0.16991079\n",
            " 0.17619627 0.16788321 0.16909976 0.17396594 0.17741281 0.18268451\n",
            " 0.19221411 0.18896999 0.19018654 0.17396594 0.17092457 0.16788321\n",
            " 0.17477697 0.16443633 0.14557989 0.15287916 0.15369019 0.15044607\n",
            " 0.14152474 0.15145985 0.13341444 0.12530414 0.11719384 0.11780211\n",
            " 0.12489862 0.14132198 0.13098135 0.12935929 0.13240065 0.12895377\n",
            " 0.12530414 0.13381995 0.14557989 0.15166261 0.15085158 0.14679643\n",
            " 0.14355231 0.12733171 0.14963504 0.14801298 0.15815085 0.16504461\n",
            " 0.15896188 0.16626115 0.16827703 0.17155781 0.17415127 0.17638272\n",
            " 0.17843656 0.18040274 0.1823262  0.18423319 0.18614048 0.18805759\n",
            " 0.18998735 0.1919273  0.19387132 0.19581178 0.19774111 0.19965287\n",
            " 0.20154265 0.20340817 0.20524922 0.2070671  0.20886447 0.21064444\n",
            " 0.21241039 0.21416545 0.21591228 0.21765302]\n",
            "26 day output [[0.21938917]]\n",
            "27 day input [0.18207624 0.18876723 0.19383617 0.19099757 0.19505272 0.19809408\n",
            " 0.20640714 0.19748581 0.19525547 0.20437956 0.19870235 0.21796431\n",
            " 0.21553122 0.20600162 0.21654501 0.21654501 0.2175588  0.19870235\n",
            " 0.19018654 0.17802109 0.175588   0.16301703 0.16707218 0.17112733\n",
            " 0.17639903 0.18349554 0.1717356  0.16423358 0.16991079 0.17619627\n",
            " 0.16788321 0.16909976 0.17396594 0.17741281 0.18268451 0.19221411\n",
            " 0.18896999 0.19018654 0.17396594 0.17092457 0.16788321 0.17477697\n",
            " 0.16443633 0.14557989 0.15287916 0.15369019 0.15044607 0.14152474\n",
            " 0.15145985 0.13341444 0.12530414 0.11719384 0.11780211 0.12489862\n",
            " 0.14132198 0.13098135 0.12935929 0.13240065 0.12895377 0.12530414\n",
            " 0.13381995 0.14557989 0.15166261 0.15085158 0.14679643 0.14355231\n",
            " 0.12733171 0.14963504 0.14801298 0.15815085 0.16504461 0.15896188\n",
            " 0.16626115 0.16827703 0.17155781 0.17415127 0.17638272 0.17843656\n",
            " 0.18040274 0.1823262  0.18423319 0.18614048 0.18805759 0.18998735\n",
            " 0.1919273  0.19387132 0.19581178 0.19774111 0.19965287 0.20154265\n",
            " 0.20340817 0.20524922 0.2070671  0.20886447 0.21064444 0.21241039\n",
            " 0.21416545 0.21591228 0.21765302 0.21938917]\n",
            "27 day output [[0.2211215]]\n",
            "28 day input [0.18876723 0.19383617 0.19099757 0.19505272 0.19809408 0.20640714\n",
            " 0.19748581 0.19525547 0.20437956 0.19870235 0.21796431 0.21553122\n",
            " 0.20600162 0.21654501 0.21654501 0.2175588  0.19870235 0.19018654\n",
            " 0.17802109 0.175588   0.16301703 0.16707218 0.17112733 0.17639903\n",
            " 0.18349554 0.1717356  0.16423358 0.16991079 0.17619627 0.16788321\n",
            " 0.16909976 0.17396594 0.17741281 0.18268451 0.19221411 0.18896999\n",
            " 0.19018654 0.17396594 0.17092457 0.16788321 0.17477697 0.16443633\n",
            " 0.14557989 0.15287916 0.15369019 0.15044607 0.14152474 0.15145985\n",
            " 0.13341444 0.12530414 0.11719384 0.11780211 0.12489862 0.14132198\n",
            " 0.13098135 0.12935929 0.13240065 0.12895377 0.12530414 0.13381995\n",
            " 0.14557989 0.15166261 0.15085158 0.14679643 0.14355231 0.12733171\n",
            " 0.14963504 0.14801298 0.15815085 0.16504461 0.15896188 0.16626115\n",
            " 0.16827703 0.17155781 0.17415127 0.17638272 0.17843656 0.18040274\n",
            " 0.1823262  0.18423319 0.18614048 0.18805759 0.18998735 0.1919273\n",
            " 0.19387132 0.19581178 0.19774111 0.19965287 0.20154265 0.20340817\n",
            " 0.20524922 0.2070671  0.20886447 0.21064444 0.21241039 0.21416545\n",
            " 0.21591228 0.21765302 0.21938917 0.2211215 ]\n",
            "28 day output [[0.22285052]]\n",
            "29 day input [0.19383617 0.19099757 0.19505272 0.19809408 0.20640714 0.19748581\n",
            " 0.19525547 0.20437956 0.19870235 0.21796431 0.21553122 0.20600162\n",
            " 0.21654501 0.21654501 0.2175588  0.19870235 0.19018654 0.17802109\n",
            " 0.175588   0.16301703 0.16707218 0.17112733 0.17639903 0.18349554\n",
            " 0.1717356  0.16423358 0.16991079 0.17619627 0.16788321 0.16909976\n",
            " 0.17396594 0.17741281 0.18268451 0.19221411 0.18896999 0.19018654\n",
            " 0.17396594 0.17092457 0.16788321 0.17477697 0.16443633 0.14557989\n",
            " 0.15287916 0.15369019 0.15044607 0.14152474 0.15145985 0.13341444\n",
            " 0.12530414 0.11719384 0.11780211 0.12489862 0.14132198 0.13098135\n",
            " 0.12935929 0.13240065 0.12895377 0.12530414 0.13381995 0.14557989\n",
            " 0.15166261 0.15085158 0.14679643 0.14355231 0.12733171 0.14963504\n",
            " 0.14801298 0.15815085 0.16504461 0.15896188 0.16626115 0.16827703\n",
            " 0.17155781 0.17415127 0.17638272 0.17843656 0.18040274 0.1823262\n",
            " 0.18423319 0.18614048 0.18805759 0.18998735 0.1919273  0.19387132\n",
            " 0.19581178 0.19774111 0.19965287 0.20154265 0.20340817 0.20524922\n",
            " 0.2070671  0.20886447 0.21064444 0.21241039 0.21416545 0.21591228\n",
            " 0.21765302 0.21938917 0.2211215  0.22285052]\n",
            "29 day output [[0.2245763]]\n",
            "[[0.16827702522277832], [0.17155781388282776], [0.17415127158164978], [0.17638272047042847], [0.17843656241893768], [0.1804027408361435], [0.18232619762420654], [0.1842331886291504], [0.18614047765731812], [0.18805758655071259], [0.18998734652996063], [0.19192729890346527], [0.19387131929397583], [0.19581177830696106], [0.19774110615253448], [0.19965286552906036], [0.20154264569282532], [0.2034081667661667], [0.20524922013282776], [0.2070671021938324], [0.2088644653558731], [0.2106444388628006], [0.21241039037704468], [0.21416544914245605], [0.21591228246688843], [0.21765302121639252], [0.2193891704082489], [0.22112150490283966], [0.2228505164384842], [0.22457629442214966]]\n"
          ]
        }
      ]
    },
    {
      "cell_type": "code",
      "metadata": {
        "id": "NpnSd2ry5V2D"
      },
      "source": [
        "# for plotting the results \n",
        "\n",
        "day_new=np.arange(1,101)\n",
        "day_pred=np.arange(101,131)"
      ],
      "execution_count": 29,
      "outputs": []
    },
    {
      "cell_type": "code",
      "metadata": {
        "colab": {
          "base_uri": "https://localhost:8080/",
          "height": 282
        },
        "id": "nxmMXa8E5uWM",
        "outputId": "58b5f43c-7e49-49db-b4e1-70b2af0c07e3"
      },
      "source": [
        "len(df)\n",
        "plt.plot(day_new,scaler.inverse_transform(df[1935:]))\n",
        "plt.plot(day_pred,scaler.inverse_transform(lst_output))"
      ],
      "execution_count": 30,
      "outputs": [
        {
          "output_type": "execute_result",
          "data": {
            "text/plain": [
              "[<matplotlib.lines.Line2D at 0x7f706f2a4b90>]"
            ]
          },
          "metadata": {},
          "execution_count": 30
        },
        {
          "output_type": "display_data",
          "data": {
            "image/png": "[encoded data removed]",
            "text/plain": [
              "<Figure size 432x288 with 1 Axes>"
            ]
          },
          "metadata": {
            "needs_background": "light"
          }
        }
      ]
    },
    {
      "cell_type": "code",
      "metadata": {
        "colab": {
          "base_uri": "https://localhost:8080/",
          "height": 282
        },
        "id": "ep_Y_1BY7Cn9",
        "outputId": "ab785300-30ba-416d-e005-6d4425c68971"
      },
      "source": [
        "# to get better visualization: -\n",
        "\n",
        "df_b=df.tolist()\n",
        "df_b.extend(lst_output)\n",
        "plt.plot(df_b[1900:])"
      ],
      "execution_count": 31,
      "outputs": [
        {
          "output_type": "execute_result",
          "data": {
            "text/plain": [
              "[<matplotlib.lines.Line2D at 0x7f706dcf6490>]"
            ]
          },
          "metadata": {},
          "execution_count": 31
        },
        {
          "output_type": "display_data",
          "data": {
            "image/png": "[encoded data removed]",
            "text/plain": [
              "<Figure size 432x288 with 1 Axes>"
            ]
          },
          "metadata": {
            "needs_background": "light"
          }
        }
      ]
    }
  ]
}